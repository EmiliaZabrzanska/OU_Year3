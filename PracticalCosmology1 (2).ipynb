{
 "cells": [
  {
   "cell_type": "markdown",
   "id": "7fdc38cc-5092-47e0-b65a-7464ee1fadac",
   "metadata": {},
   "source": [
    "# Python Activity - Exploring Model Universes\n",
    "\n",
    "In this activity you will write Python code to model the behaviour of model Universes containing different contributions of matter, radiation and $\\Lambda$. We will start with simple models that are dominated by a single component before going on to consider multi-component Universes with non-zero curvature. By the end of this activity, you will have learned how to model and visualise the expansion histories of curved universes with any combination of components."
   ]
  },
  {
   "cell_type": "markdown",
   "id": "350ab8af-cc4b-4b35-9611-7ac4a10d863e",
   "metadata": {},
   "source": [
    "**Note that we will be importing the Python packages that we need as and when we need them. That means that if you complete this activity in several sittings and need to close and reload the notebook, then you will need to rerun _all_ the cells that you worked through in the previous sessions before you carry on. If you forget to do this you may find that subsequent cells fail to run because the packages they require have not been imported.**"
   ]
  },
  {
   "cell_type": "markdown",
   "id": "f7798675-68a9-486a-a362-c4958e253b5e",
   "metadata": {},
   "source": [
    "## Part 1 - Flat Single component Universes\n",
    "We will start by writing code that models and visualises the evolution of single-component universes and their contents. You will write Python functions to represent the particular _solutions_ of the _Friedmann equation_ and the _Fluid equation_ that we derived in Chapter 4 of the _Cosmology and the distant Universe_ textbook.\n",
    "\n",
    "### Part 1.1 - Density evolution as a function of $a$\n",
    "Recall that matter in the context of cosmological models refers to any fluid that is pressureless and non-relativistic. To get warmed up, let's write a Python function that models the evolution of the matter density $\\rho_{\\mathrm{m}}$ in a matter dominated Universe. In Chapter 4 of the _Cosmology and the distant Universe_ textbook, we showed that:\n",
    "\\begin{equation}\n",
    "    \\rho_{\\mathrm{m}}=\\frac{\\rho_{0,\\mathrm{m}}}{a^{3}}\\qquad\\mathrm{(1)}\n",
    "\\end{equation}\n",
    "We can use the form of this equation to design a function that models the evolution of $\\rho_{\\mathrm{m}}$ as the universe expands or contracts. The equation has one dependent variable ($\\rho_{\\mathrm{m}}$), one independent variable ($a$) and one constant parameter ($\\rho_{0,\\mathrm{m}}$). Our function will compute and `return` a value for the dependent variable for _given_ values of the parameter and the independent variable. Let's immediately _define_ the function so that we can examine its different components."
   ]
  },
  {
   "cell_type": "code",
   "execution_count": 6,
   "id": "0505e688-37f7-496f-9e37-3b12d8fffaa2",
   "metadata": {},
   "outputs": [],
   "source": [
    "# Execute this cell to make the function available in later cells\n",
    "def compute_rho_matter_a(a, rho_0_matter):\n",
    "    # compute the value of rho_matter as specified in equation (1)\n",
    "    rho_matter = rho_0_matter/a**3\n",
    "    # return the value we just computed as the function's result\n",
    "    return rho_matter"
   ]
  },
  {
   "cell_type": "markdown",
   "id": "e3b1e05d-e81d-40c3-8b3d-234151fb9ffe",
   "metadata": {},
   "source": [
    "The first line is just like any standard Python function. It starts with the `def` keyword to let Python know we are _defining_ a function. Next we write the name of our function - `compute_rho_matter_a`. We could have given our function any name but it makes sense to name it after what it does! Next comes a parenthesised list of our function's _arguments_, which represent the parameter and independent variable of the equation we want to evaluate. We will use `a` to represent the value of the scale factor ($a$) and `rho_0_matter` to represent the present matter density ($\\rho_{0,\\mathrm{m}}$). Just like all Python functions, the first line of our definition ends with a `:` character.\n",
    "\n",
    "The next two lines form the _body_ of our function. Just like any Python function definition, the function's body is indented with respect to its first line. The first line of the function actually computes the value of $\\rho_{\\mathrm{m}}$ by evaluating equation (1). In the second line, we simply `return` the result that we just computed. Always remember to `return` the values you compute in functions otherwise they will just be lost when the function exits!\n",
    "\n",
    "Even though our definition for `compute_rho_matter_a` is only three lines long, writing it has given us a good recipe to follow when we define other functions later in this exercise. Let's review what we did.\n",
    "1. We identified the equation we wanted to evaluate.\n",
    "2. We identified the dependent variable as the quantity we actually wanted to compute.\n",
    "3. We identified any other independent variables and parameters in the equation (in this case there was just one of each).\n",
    "4. We defined a function using standard Python syntax, giving it a sensible name and setting the independent variables and parameters of the equation as the functions _arguments_.\n",
    "5. We defined the _body_ of the function by writing Python code to mathematically evaluate the equation and compute the dependent variable.\n",
    "6. We returned the value of the dependent variable we computed.\n",
    "\n",
    "As you work through the subsequant parts of this exercise, the functions you write will become more complicated - they will accept more arguments their bodies will contain more lines of code - but you will still be able to use this 6-step recipe as a guide.\n",
    "\n",
    "#### Exercise 1\n",
    "Unlike matter, _radiation_ is modeled by cosmologists as a relativstic fluid with nonzero pressure that is related to its denisty by $P_{\\mathrm{r}} = \\frac{1}{3}\\rho_{\\mathrm{r}}c^{2}$. As practise for following this recipe, define a function in the next cell that computes the density of **radiation** in a radiation-dominated universe with scale factor $a$, given that the present radiation density is $\\rho_{0,\\mathrm{r}}$. We have provided a model solution for this exercise in a separate _Solutions_ notebook. Try to write your own solution before looking at the answer though!"
   ]
  },
  {
   "cell_type": "code",
   "execution_count": 7,
   "id": "8c96207b-ac2d-4528-a15e-a8523c48059c",
   "metadata": {},
   "outputs": [],
   "source": [
    "# Write your function in this cell\n",
    "def compute_rho_radiation_a(a, rho_0_radiation):\n",
    "    # we need to compute the value of rho_radiation, noting that density is inversely proportional to a^4\n",
    "    rho_radiation = (rho_0_radiation)/(a**4)\n",
    "    # we now return the computed value as the function's new result\n",
    "    return rho_radiation"
   ]
  },
  {
   "cell_type": "markdown",
   "id": "a1853a4f-73cc-4da6-a9ce-a624ef36c69a",
   "metadata": {},
   "source": [
    "### Part 1.2 - Plotting $\\rho(a)$\n",
    "Now that we have two functions that predict $\\rho_{\\mathrm{m}}$ and $\\rho_{\\mathrm{r}}$ as functions of $a$ (given $\\rho_{0,\\mathrm{m}}$ and $\\rho_{0,\\mathrm{r}}$) let's make a plot showing how the different fluids' densities evolve as the universe expands. To do this we'll make use of the `numpy` and `matplotlib` packages. In particular, we'll be using the `pyplot` module from `matplotlib`. Let's import everything we need now."
   ]
  },
  {
   "cell_type": "code",
   "execution_count": 8,
   "id": "9b569915-4959-4626-9689-dc80583fdd91",
   "metadata": {},
   "outputs": [],
   "source": [
    "# Import numpy and give it a shorthand alias \"np\" to save on typing\n",
    "import numpy as np\n",
    "# Import the pyplot module from matplotlib and give it the alias \"plt\"\n",
    "import matplotlib.pyplot as plt"
   ]
  },
  {
   "cell_type": "markdown",
   "id": "f1d3fa39-3ae5-4b87-bab4-66ffbbd9378e",
   "metadata": {},
   "source": [
    "You probably know that `numpy` is a very powerful Python package for performing mathematical computations. One of its most useful features is that we can use it to perform mathematical operations on lists of numbers (called `numpy` _arrays_) _as if they were simple scalars_. This means that we can create a list of values for `a` and compute the corresponding densities for all of them _in a single function call_! Let's demonstrate with an example:"
   ]
  },
  {
   "cell_type": "code",
   "execution_count": 9,
   "id": "62ff9fbf-5bce-474d-a01a-fb7120aa569c",
   "metadata": {},
   "outputs": [
    {
     "name": "stdout",
     "output_type": "stream",
     "text": [
      "[4.00000000e+01 2.30316308e+01 1.44517744e+01 9.65548742e+00\n",
      " 6.76716058e+00 4.92500126e+00 3.69515985e+00 2.84296735e+00\n",
      " 2.23391314e+00 1.78711691e+00 1.45195117e+00 1.19562098e+00\n",
      " 9.96245747e-01 8.38845983e-01 7.12931732e-01 6.11007988e-01\n",
      " 5.27622742e-01 4.58745708e-01 4.01353929e-01 3.53149857e-01\n",
      " 3.12366131e-01 2.77628152e-01 2.47855910e-01 2.22192887e-01\n",
      " 1.99953902e-01 1.80586428e-01 1.63641566e-01 1.48752064e-01\n",
      " 1.35615501e-01 1.23981319e-01 1.13640739e-01 1.04418850e-01\n",
      " 9.61683711e-02 8.87646914e-02 8.21018989e-02 7.60895888e-02\n",
      " 7.06502771e-02 6.57172971e-02 6.12330770e-02 5.71477255e-02\n",
      " 5.34178618e-02 5.00056459e-02 4.68779702e-02 4.40057831e-02\n",
      " 4.13635209e-02 3.89286291e-02 3.66811568e-02 3.46034127e-02\n",
      " 3.26796724e-02 3.08959278e-02 2.92396721e-02 2.76997159e-02\n",
      " 2.62660280e-02 2.49295975e-02 2.36823154e-02 2.25168703e-02\n",
      " 2.14266590e-02 2.04057074e-02 1.94486018e-02 1.85504283e-02\n",
      " 1.77067201e-02 1.69134105e-02 1.61667918e-02 1.54634789e-02\n",
      " 1.48003770e-02 1.41746529e-02 1.35837096e-02 1.30251638e-02\n",
      " 1.24968253e-02 1.19966794e-02 1.15228704e-02 1.10736872e-02\n",
      " 1.06475507e-02 1.02430013e-02 9.85868942e-03 9.49336511e-03\n",
      " 9.14587010e-03 8.81512986e-03 8.50014662e-03 8.19999310e-03\n",
      " 7.91380671e-03 7.64078439e-03 7.38017787e-03 7.13128933e-03\n",
      " 6.89346748e-03 6.66610400e-03 6.44863028e-03 6.24051437e-03\n",
      " 6.04125831e-03 5.85039561e-03 5.66748894e-03 5.49212801e-03\n",
      " 5.32392769e-03 5.16252618e-03 5.00758342e-03 4.85877953e-03\n",
      " 4.71581347e-03 4.57840174e-03 4.44627720e-03 4.31918799e-03]\n"
     ]
    }
   ],
   "source": [
    "# 1) Create a numpy array of 100 numbers, linearly spaced between 0.5 and 10.5 to use as \n",
    "# test values for the scale factor \n",
    "a_vals = np.linspace(start=0.5, stop=10.5, num=100)\n",
    "\n",
    "# 2) Pick a value to use for the present matter density (the actual value doesn't matter - \n",
    "# this is just an example!)\n",
    "rho_0_m = 5\n",
    "\n",
    "# 3) Call the function we defined in Part 1.1 to compute the matter density for *all* of \n",
    "# our trial scale factors at the same time.\n",
    "rho_m_vals = compute_rho_matter_a(a_vals, rho_0_m)\n",
    "\n",
    "# 4) Print the result - it's an array of 100 numbers.\n",
    "print(rho_m_vals)"
   ]
  },
  {
   "cell_type": "markdown",
   "id": "fb21a725-2032-443d-8150-46aefeea6e94",
   "metadata": {},
   "source": [
    "Now that we have computed some values for $\\rho_{\\mathrm{m}}$, let's make a plot to show how $\\rho_{\\mathrm{m}}$ evolves as $a$ increases. The next cell shows how to use the functions in the `pyplot` module to plot $\\rho_{\\mathrm{m}}$ versus $a$ using logarithmic axis scales."
   ]
  },
  {
   "cell_type": "code",
   "execution_count": 10,
   "id": "389f22ad-8ac0-469a-9f60-93cf125982d4",
   "metadata": {},
   "outputs": [
    {
     "data": {
      "text/plain": [
       "<matplotlib.legend.Legend at 0x7fef49a3e380>"
      ]
     },
     "execution_count": 10,
     "metadata": {},
     "output_type": "execute_result"
    },
    {
     "data": {
      "image/png": "[encoded data removed]",
      "text/plain": [
       "<Figure size 500x500 with 1 Axes>"
      ]
     },
     "metadata": {},
     "output_type": "display_data"
    }
   ],
   "source": [
    "# 1) Create a matplotlib \"figure\" that acts like a canvas that we \n",
    "# can plot one or more graphs onto and set its size to be 5x5 inches\n",
    "# Call this figure \"fig\"\n",
    "fig = plt.figure(figsize=(5,5))\n",
    "# Note: that the figure may not appear to be that size on your computer\n",
    "# screen, but it should look square.\n",
    "\n",
    "# 2) Add a set of axes to our figure that we can plot our data \n",
    "# points onto. Call this set of axes \"ax\"\n",
    "ax = fig.add_subplot(1,1,1)\n",
    "\n",
    "# 3) Plot our data onto our set of axes using its \"plot\" method\n",
    "# and assign an appropriate label to our data.\n",
    "ax.plot(a_vals, rho_m_vals, label=r\"$\\rho_{m}$\")\n",
    "# Note: We have used a special syntax here to render our\n",
    "# label using mathematical symbols. It is the syntax used by \n",
    "# a scientific typesetting language called LaTeX. If you are \n",
    "# not familiar with LaTeX, you can just use words in your axis\n",
    "# labels. In this case, you could have just written \n",
    "# label=\"Matter density\"=\n",
    "\n",
    "# 4) Set the x and y scales on our axes to be logarithmic.\n",
    "ax.set_xscale(\"log\")\n",
    "ax.set_yscale(\"log\")\n",
    "\n",
    "# 5) Set the labels for the x and y scales to appropriate values\n",
    "# and make the text large so we can read it easily.\n",
    "ax.set_xlabel(\"a\", fontsize=\"xx-large\")\n",
    "ax.set_ylabel(r\"$\\rho_{m}$\", fontsize=\"xx-large\")\n",
    "\n",
    "# 6) Add a legend to our axes\n",
    "ax.legend()"
   ]
  },
  {
   "cell_type": "markdown",
   "id": "2eaa861d-9988-41e8-bb80-8b981e9b2ec7",
   "metadata": {},
   "source": [
    "Our plot shows a power law relationship between $\\rho_{\\mathrm{m}}$ and $a$. The gradient of the line on these loagritmic axes is -3, which is exactly what we expect to see based on Equation 1. In the following exercise you will write very similar code to make a similar plot for a radiation-dominated universe."
   ]
  },
  {
   "cell_type": "markdown",
   "id": "e06c976d-d869-41f7-b269-b7075d29d069",
   "metadata": {},
   "source": [
    "#### Exercise 2\n",
    "Using the code in the previous two cells as a template, make plot showing how the density of **radiation** evolves as the universe expands. We have provided a model solution for this exercise in a separate _Solutions_ notebook. Try to write your own solution before looking at the answer though!"
   ]
  },
  {
   "cell_type": "code",
   "execution_count": 11,
   "id": "c83e874f-dc5a-4651-a88b-d44317cee601",
   "metadata": {},
   "outputs": [
    {
     "data": {
      "text/plain": [
       "<matplotlib.legend.Legend at 0x7fef47593c10>"
      ]
     },
     "execution_count": 11,
     "metadata": {},
     "output_type": "execute_result"
    },
    {
     "data": {
      "image/png": "[encoded data removed]",
      "text/plain": [
       "<Figure size 500x500 with 1 Axes>"
      ]
     },
     "metadata": {},
     "output_type": "display_data"
    }
   ],
   "source": [
    "# We are able to reuse the a_vals defined previously, so do not need to redefine these.\n",
    "\n",
    "# We now pick a value for the present radiation density\n",
    "rho_0_r = 5\n",
    "\n",
    "# We can now call the function we defined in Part 1.1 to compute the matter density for *all* of our trial scale factors at the same time.\n",
    "rho_r_vals = compute_rho_radiation_a(a_vals, rho_0_r)\n",
    "\n",
    "# Create a plt 'figure' acting as a canvas to plot graphs on, setting size to 5x5 inches\n",
    "fig = plt.figure(figsize=(5,5))\n",
    "\n",
    "# Add a set of axes to the figure \n",
    "ax = fig.add_subplot(1,1,1)\n",
    "\n",
    "# Plot data onto set of axes and assign labels \n",
    "ax.plot(a_vals, rho_r_vals, label=r\"$\\rho_{r}$\")\n",
    "\n",
    "# Set the x and y scales to be logarithmic \n",
    "ax.set_xscale(\"log\")\n",
    "ax.set_yscale(\"log\")\n",
    "\n",
    "# Set appropriate labels for the axes\n",
    "ax.set_xlabel(\"a\", fontsize=\"xx-large\")\n",
    "ax.set_ylabel(r\"$\\rho_{r}$\", fontsize=\"xx-large\")\n",
    "\n",
    "# Add legend to axes\n",
    "ax.legend()"
   ]
  },
  {
   "cell_type": "markdown",
   "id": "97b4a94f-e81a-4db3-94d1-f7646b75133f",
   "metadata": {},
   "source": [
    "### Part 1.3 - Density evolution as a function of $t$\n",
    "Now let's move on to tackle a slighly more complicated task. Instead of computing how the densities of matter and radiation evolve with $a$, we'll compute how they vary with _time_. In Chapter 4 of the _Cosmology and the distant Universe_ textbook we showed that:\n",
    "\\begin{equation}\n",
    "    \\rho_{\\mathrm{m}}(t)=\\frac{\\rho_{0,\\mathrm{m}}}{a(t)^{3}} = \\rho_{0,\\mathrm{m}}\\frac{t_{0, \\mathrm{m}}^{2}}{t^{2}}\\qquad\\mathrm(2)\n",
    "\\end{equation}\n",
    "We also showed that:\n",
    "\\begin{equation}\n",
    "    t_{0, \\mathrm{m}}=\\frac{1}{\\sqrt{6\\pi G\\rho_{0,\\mathrm{m}}}}\\qquad\\mathrm(3)\n",
    "\\end{equation}\n",
    "To compute $\\rho_{\\mathrm{m}}(t)$, we'll write two functions and use them together to get the final result. Let's start by writing a function that computes $t_{0, \\mathrm{m}}$ for a matter-dominated universe. Note that $t_{0, \\mathrm{m}}$ depends on one parameter ($\\rho_{0,\\mathrm{m}}$) and two universal constants ($\\pi$ and $G$). We could type \"hard-coded\" values for these constants into our code, but we don't need to. We can get the value of $\\pi$ from `numpy` and we can use a package called `astropy` to get the value of $G$. One advantage of using `astropy` to get the value of $G$ is that the we _also_ get extra information like the _units_. This means that we're less likely to make unit conversion errors. We also get an estimate of the uncertainty associated with the value of $G$ in case we want to estimate the accuracy of any subsequent values we compute. Here's an example. "
   ]
  },
  {
   "cell_type": "code",
   "execution_count": 12,
   "id": "28ec8112-7f87-43cf-9fb8-f9b97944edde",
   "metadata": {},
   "outputs": [
    {
     "name": "stdout",
     "output_type": "stream",
     "text": [
      "  Name   = Gravitational constant\n",
      "  Value  = 6.6743e-11\n",
      "  Uncertainty  = 1.5e-15\n",
      "  Unit  = m3 / (kg s2)\n",
      "  Reference = CODATA 2018 \n",
      "\n",
      "3 x G =  2.0022899999999998e-10 m3 / (kg s2) \n",
      "\n",
      "G x a_vals =  [3.33715000e-11 4.01132172e-11 4.68549343e-11 5.35966515e-11\n",
      " 6.03383687e-11 6.70800859e-11 7.38218030e-11 8.05635202e-11\n",
      " 8.73052374e-11 9.40469545e-11 1.00788672e-10 1.07530389e-10\n",
      " 1.14272106e-10 1.21013823e-10 1.27755540e-10 1.34497258e-10\n",
      " 1.41238975e-10 1.47980692e-10 1.54722409e-10 1.61464126e-10\n",
      " 1.68205843e-10 1.74947561e-10 1.81689278e-10 1.88430995e-10\n",
      " 1.95172712e-10 2.01914429e-10 2.08656146e-10 2.15397864e-10\n",
      " 2.22139581e-10 2.28881298e-10 2.35623015e-10 2.42364732e-10\n",
      " 2.49106449e-10 2.55848167e-10 2.62589884e-10 2.69331601e-10\n",
      " 2.76073318e-10 2.82815035e-10 2.89556753e-10 2.96298470e-10\n",
      " 3.03040187e-10 3.09781904e-10 3.16523621e-10 3.23265338e-10\n",
      " 3.30007056e-10 3.36748773e-10 3.43490490e-10 3.50232207e-10\n",
      " 3.56973924e-10 3.63715641e-10 3.70457359e-10 3.77199076e-10\n",
      " 3.83940793e-10 3.90682510e-10 3.97424227e-10 4.04165944e-10\n",
      " 4.10907662e-10 4.17649379e-10 4.24391096e-10 4.31132813e-10\n",
      " 4.37874530e-10 4.44616247e-10 4.51357965e-10 4.58099682e-10\n",
      " 4.64841399e-10 4.71583116e-10 4.78324833e-10 4.85066551e-10\n",
      " 4.91808268e-10 4.98549985e-10 5.05291702e-10 5.12033419e-10\n",
      " 5.18775136e-10 5.25516854e-10 5.32258571e-10 5.39000288e-10\n",
      " 5.45742005e-10 5.52483722e-10 5.59225439e-10 5.65967157e-10\n",
      " 5.72708874e-10 5.79450591e-10 5.86192308e-10 5.92934025e-10\n",
      " 5.99675742e-10 6.06417460e-10 6.13159177e-10 6.19900894e-10\n",
      " 6.26642611e-10 6.33384328e-10 6.40126045e-10 6.46867763e-10\n",
      " 6.53609480e-10 6.60351197e-10 6.67092914e-10 6.73834631e-10\n",
      " 6.80576348e-10 6.87318066e-10 6.94059783e-10 7.00801500e-10] m3 / (kg s2) \n",
      "\n",
      "G without units =  6.6743e-11\n"
     ]
    }
   ],
   "source": [
    "# Import the \"constants\" module from the astropy package\n",
    "# and give it the alias \"apconst\"\n",
    "import astropy.constants as apconsts\n",
    "\n",
    "# Now we can just get the value of G (and it's units) like this\n",
    "G = apconsts.G\n",
    "\n",
    "# Print the value of G along with some extra information\n",
    "print(G, \"\\n\")\n",
    "# Note: After printing G, we also print \"\\n\". This is a special\n",
    "# sequence called an \"escape character\" that just prints moves\n",
    "# the cursor to the next line and creates some space between our \n",
    "# outputs.\n",
    "\n",
    "# Even though it's carrying the extra information with it, G can \n",
    "# be manipulated and used just like an ordinary number.\n",
    "# Note that the result still has its units.\n",
    "print(\"3 x G = \", 3*G, \"\\n\")\n",
    "\n",
    "# It can even be used with numpy arrays!\n",
    "print(\"G x a_vals = \", (G*a_vals), \"\\n\")\n",
    "\n",
    "# If we don't want the units any more we just access G's `value`\n",
    "# like this:\n",
    "print(\"G without units = \", G.value)"
   ]
  },
  {
   "cell_type": "markdown",
   "id": "9e28f4a3-1bba-4c39-b9e2-d11c11c5a310",
   "metadata": {},
   "source": [
    "Okay, now let's write our function to compute $t_{0, \\mathrm{m}}$. It will have one _argument_ corresponding to the parameter $\\rho_{0, \\mathrm{m}}$. \n",
    "\n",
    "To represent Newton's gravitational constant in our function, we will explicitly use `apconsts.G`, rather than our variable `G` that we created above. "
   ]
  },
  {
   "cell_type": "code",
   "execution_count": 13,
   "id": "45c43c9a-e9a8-4317-b9fc-ac1b4126300b",
   "metadata": {},
   "outputs": [],
   "source": [
    "def compute_t0_matter(rho_0_matter):\n",
    "    return 1/np.sqrt(6*np.pi*apconsts.G*rho_0_matter)"
   ]
  },
  {
   "cell_type": "markdown",
   "id": "fd09b6ba-de6a-46a2-aad3-02d20dceba63",
   "metadata": {},
   "source": [
    "Let's test it out using the arbitrary value we picked for $\\rho_{0, \\mathrm{m}}$ previously."
   ]
  },
  {
   "cell_type": "code",
   "execution_count": 14,
   "id": "76155b08-7a7e-47d9-acfe-3c3f5976f4b1",
   "metadata": {},
   "outputs": [
    {
     "data": {
      "text/latex": [
       "$12608.446 \\; \\mathrm{\\frac{s\\,kg^{1/2}}{m^{3/2}}}$"
      ],
      "text/plain": [
       "<Quantity 12608.44633964 s kg(1/2) / m(3/2)>"
      ]
     },
     "execution_count": 14,
     "metadata": {},
     "output_type": "execute_result"
    }
   ],
   "source": [
    "compute_t0_matter(rho_0_m)"
   ]
  },
  {
   "cell_type": "markdown",
   "id": "808c59fa-2d52-4ca1-8880-0ce393978c81",
   "metadata": {},
   "source": [
    "**That's strange!** We expected units of time but we got back the same units as $\\sqrt{G}$. What happened? Well $G$ isn't the only quantity in equation (3) that should have units - $\\rho_{0, \\mathrm{m}}$ does too. To fix this problem, we have two options. We could just discard the units of $G$ by accessing its `value` like we did in the example above, but that's not a very satisfactory approach. What if our value for $\\rho_{0, \\mathrm{m}}$ is unexpectedly in nanograms per cubic megaparsec? We might easily misinterpret the answer we get. Instead, we can _assign_ units to $\\rho_{0, \\mathrm{m}}$ using the `astropy.units` module. Here's an example of how to do that."
   ]
  },
  {
   "cell_type": "code",
   "execution_count": 15,
   "id": "ada27bb7-e346-4bc4-865c-190a189a0bf4",
   "metadata": {},
   "outputs": [
    {
     "name": "stdout",
     "output_type": "stream",
     "text": [
      "rho_0_m_si = 5.0 kg / m3\n"
     ]
    }
   ],
   "source": [
    "# Import the astropy.units module and give it the short alias \"apunits\"\n",
    "import astropy.units as apunits\n",
    "\n",
    "# The syntax for doing this borrows the Python arithmetic operators. \n",
    "# Here's how to define the SI density units of kg/m^3\n",
    "kg_per_m3 = apunits.kg/(apunits.m**3)\n",
    "\n",
    "# Now we can specify that rho_0_m has these units. It looks like\n",
    "# we're multiplying the bare value by its new units.\n",
    "rho_0_m_si = rho_0_m*kg_per_m3\n",
    "\n",
    "# Let's print this new SI density. It has the same value as before\n",
    "# but its units are specified.\n",
    "print(\"rho_0_m_si =\" ,rho_0_m_si)"
   ]
  },
  {
   "cell_type": "markdown",
   "id": "40c6aec3-b381-4409-922e-42091b262cb6",
   "metadata": {},
   "source": [
    "The `astropy.units` module supports all of the units you are likely to encounter in this module and most have very intuitive names. For example kilometres are `apunits.km` (using our short alias `apunits`) and Newtons are `apunits.N`. Compound units like km/s can be formed using arithmetic operations on units like `apunits.km/apunits.s`. Right! Now let's try computing $t_{0, \\mathrm{m}}$ again using our unitful density."
   ]
  },
  {
   "cell_type": "code",
   "execution_count": 16,
   "id": "018aee7e-bf05-4d26-b617-dd9e866466f1",
   "metadata": {},
   "outputs": [
    {
     "data": {
      "text/latex": [
       "$12608.446 \\; \\mathrm{s}$"
      ],
      "text/plain": [
       "<Quantity 12608.44633964 s>"
      ]
     },
     "execution_count": 16,
     "metadata": {},
     "output_type": "execute_result"
    }
   ],
   "source": [
    "compute_t0_matter(rho_0_m_si)"
   ]
  },
  {
   "cell_type": "markdown",
   "id": "9119e3ed-e8f3-4ed4-acc6-41c33d265194",
   "metadata": {},
   "source": [
    "That looks better! Next we need to define a function that computes the density of matter at any time. It will have two arguments corresponding to the independent variable ($t$) and parameter ($\\rho_{0, \\mathrm{m}}$) in equation (2). Let's write it!"
   ]
  },
  {
   "cell_type": "code",
   "execution_count": 17,
   "id": "217d7843-5eb6-4f7b-9671-143299692a57",
   "metadata": {},
   "outputs": [],
   "source": [
    "def compute_rho_matter_t(t, rho_0_m):\n",
    "    # First compute t_0 using the function we already defined\n",
    "    t_0_m = compute_t0_matter(rho_0_m)\n",
    "    \n",
    "    # Now use equation (2) to compute the matter density at time t\n",
    "    rho_m = rho_0_m*(t_0_m/t)**2\n",
    "    \n",
    "    # Don't forget to return the value we computed\n",
    "    return rho_m"
   ]
  },
  {
   "cell_type": "markdown",
   "id": "38a9af65-b60c-478b-be69-ce1d09440ffd",
   "metadata": {},
   "source": [
    "To test our function, we'll use our unitful version of $\\rho_{0, \\mathrm{m}}$, but first let's create a `numpy` array of test values for $t$ and assign them units of _megayears_."
   ]
  },
  {
   "cell_type": "code",
   "execution_count": 18,
   "id": "bfaa53bc-14fe-49dc-bb00-0c335c6f7d9d",
   "metadata": {},
   "outputs": [
    {
     "name": "stdout",
     "output_type": "stream",
     "text": [
      "t_vals =  [  0.1          1.10909091   2.11818182   3.12727273   4.13636364\n",
      "   5.14545455   6.15454545   7.16363636   8.17272727   9.18181818\n",
      "  10.19090909  11.2         12.20909091  13.21818182  14.22727273\n",
      "  15.23636364  16.24545455  17.25454545  18.26363636  19.27272727\n",
      "  20.28181818  21.29090909  22.3         23.30909091  24.31818182\n",
      "  25.32727273  26.33636364  27.34545455  28.35454545  29.36363636\n",
      "  30.37272727  31.38181818  32.39090909  33.4         34.40909091\n",
      "  35.41818182  36.42727273  37.43636364  38.44545455  39.45454545\n",
      "  40.46363636  41.47272727  42.48181818  43.49090909  44.5\n",
      "  45.50909091  46.51818182  47.52727273  48.53636364  49.54545455\n",
      "  50.55454545  51.56363636  52.57272727  53.58181818  54.59090909\n",
      "  55.6         56.60909091  57.61818182  58.62727273  59.63636364\n",
      "  60.64545455  61.65454545  62.66363636  63.67272727  64.68181818\n",
      "  65.69090909  66.7         67.70909091  68.71818182  69.72727273\n",
      "  70.73636364  71.74545455  72.75454545  73.76363636  74.77272727\n",
      "  75.78181818  76.79090909  77.8         78.80909091  79.81818182\n",
      "  80.82727273  81.83636364  82.84545455  83.85454545  84.86363636\n",
      "  85.87272727  86.88181818  87.89090909  88.9         89.90909091\n",
      "  90.91818182  91.92727273  92.93636364  93.94545455  94.95454545\n",
      "  95.96363636  96.97272727  97.98181818  98.99090909 100.        ] Myr\n"
     ]
    }
   ],
   "source": [
    "t_vals = np.linspace(0.1, 100, 100)*apunits.Myr\n",
    "print(\"t_vals = \", t_vals)"
   ]
  },
  {
   "cell_type": "markdown",
   "id": "e47d2a67-642f-43e1-a984-78d553abefa6",
   "metadata": {},
   "source": [
    "Now we're ready to test our new function."
   ]
  },
  {
   "cell_type": "code",
   "execution_count": 19,
   "id": "9f99d5ce-46b1-4c31-9a1c-0c09ac495b06",
   "metadata": {},
   "outputs": [
    {
     "name": "stdout",
     "output_type": "stream",
     "text": [
      "[7.94864595e+10 6.46187961e+08 1.77160412e+08 8.12758721e+07\n",
      " 4.64574887e+07 3.00224176e+07 2.09846237e+07 1.54890966e+07\n",
      " 1.19003337e+07 9.42835174e+06 7.65362709e+06 6.33661189e+06\n",
      " 5.33244639e+06 4.54935378e+06 3.92689998e+06 3.42397429e+06\n",
      " 3.01182281e+06 2.66984536e+06 2.38297041e+06 2.13996565e+06\n",
      " 1.93232149e+06 1.75349585e+06 1.59839248e+06 1.46299379e+06\n",
      " 1.34409805e+06 1.23912837e+06 1.14599186e+06 1.06297453e+06\n",
      " 9.88661845e+05 9.21878059e+05 8.61639445e+05 8.07117845e+05\n",
      " 7.57612059e+05 7.12525185e+05 6.71346541e+05 6.33637143e+05\n",
      " 5.99017953e+05 5.67160320e+05 5.37778151e+05 5.10621462e+05\n",
      " 4.85471048e+05 4.62134043e+05 4.40440211e+05 4.20238833e+05\n",
      " 4.01396084e+05 3.83792809e+05 3.67322634e+05 3.51890357e+05\n",
      " 3.37410569e+05 3.23806468e+05 3.11008840e+05 2.98955178e+05\n",
      " 2.87588913e+05 2.76858754e+05 2.66718107e+05 2.57124565e+05\n",
      " 2.48039469e+05 2.39427513e+05 2.31256405e+05 2.23496561e+05\n",
      " 2.16120838e+05 2.09104295e+05 2.02423983e+05 1.96058759e+05\n",
      " 1.89989113e+05 1.84197024e+05 1.78665823e+05 1.73380075e+05\n",
      " 1.68325469e+05 1.63488721e+05 1.58857489e+05 1.54420292e+05\n",
      " 1.50166442e+05 1.46085973e+05 1.42169590e+05 1.38408611e+05\n",
      " 1.34794923e+05 1.31320933e+05 1.27979532e+05 1.24764058e+05\n",
      " 1.21668262e+05 1.18686277e+05 1.15812592e+05 1.13042027e+05\n",
      " 1.10369704e+05 1.07791035e+05 1.05301692e+05 1.02897599e+05\n",
      " 1.00574905e+05 9.83299776e+04 9.61593832e+04 9.40598760e+04\n",
      " 9.20283853e+04 9.00620046e+04 8.81579809e+04 8.63137053e+04\n",
      " 8.45267038e+04 8.27946291e+04 8.11152532e+04 7.94864595e+04] s2 kg / (Myr2 m3)\n"
     ]
    }
   ],
   "source": [
    "rho_m_vals_t = compute_rho_matter_t(t_vals, rho_0_m_si)\n",
    "print(rho_m_vals_t)"
   ]
  },
  {
   "cell_type": "markdown",
   "id": "adc3ba0e-c491-4ccb-9846-2b6ee5e2786f",
   "metadata": {},
   "source": [
    "Again we see that we have some strange units, but we know we specified units for all quantities that required them. When performing mathematical operations of unitful quatities, the `astropy` units module always assumes that you want to preserve the units and the **_values_** of the quantities you are working with. To convert to a specific set of units and scale the values appropriately, we can use the `to()` method, like this"
   ]
  },
  {
   "cell_type": "code",
   "execution_count": 20,
   "id": "b684e967-3461-40b3-b6f5-bf32822693e8",
   "metadata": {},
   "outputs": [
    {
     "name": "stdout",
     "output_type": "stream",
     "text": [
      "[7.98151289e-17 6.48859889e-19 1.77892954e-19 8.16119405e-20\n",
      " 4.66495862e-20 3.01465576e-20 2.10713932e-20 1.55531426e-20\n",
      " 1.19495405e-20 9.46733712e-21 7.68527415e-21 6.36281321e-21\n",
      " 5.35449558e-21 4.56816494e-21 3.94313736e-21 3.43813211e-21\n",
      " 3.02427643e-21 2.68088493e-21 2.39282378e-21 2.14881421e-21\n",
      " 1.94031146e-21 1.76074640e-21 1.60500169e-21 1.46904313e-21\n",
      " 1.34965577e-21 1.24425205e-21 1.15073043e-21 1.06736984e-21\n",
      " 9.92749872e-22 9.25689942e-22 8.65202246e-22 8.10455204e-22\n",
      " 7.60744716e-22 7.15471412e-22 6.74122498e-22 6.36257175e-22\n",
      " 6.01494838e-22 5.69505477e-22 5.40001814e-22 5.12732835e-22\n",
      " 4.87478427e-22 4.64044925e-22 4.42261391e-22 4.21976482e-22\n",
      " 4.03055820e-22 3.85379757e-22 3.68841480e-22 3.53345392e-22\n",
      " 3.38805731e-22 3.25145378e-22 3.12294833e-22 3.00191330e-22\n",
      " 2.88778067e-22 2.78003540e-22 2.67820962e-22 2.58187752e-22\n",
      " 2.49065089e-22 2.40417524e-22 2.32212629e-22 2.24420699e-22\n",
      " 2.17014478e-22 2.09968922e-22 2.03260988e-22 1.96869444e-22\n",
      " 1.90774701e-22 1.84958662e-22 1.79404590e-22 1.74096986e-22\n",
      " 1.69021479e-22 1.64164732e-22 1.59514350e-22 1.55058806e-22\n",
      " 1.50787366e-22 1.46690025e-22 1.42757448e-22 1.38980918e-22\n",
      " 1.35352288e-22 1.31863933e-22 1.28508716e-22 1.25279946e-22\n",
      " 1.22171349e-22 1.19177034e-22 1.16291467e-22 1.13509445e-22\n",
      " 1.10826073e-22 1.08236741e-22 1.05737105e-22 1.03323071e-22\n",
      " 1.00990773e-22 9.87365632e-23 9.65569935e-23 9.44488050e-23\n",
      " 9.24089143e-23 9.04344028e-23 8.85225062e-23 8.66706046e-23\n",
      " 8.48762140e-23 8.31369774e-23 8.14506574e-23 7.98151289e-23] kg / m3\n"
     ]
    }
   ],
   "source": [
    "print(rho_m_vals_t.to(kg_per_m3))"
   ]
  },
  {
   "cell_type": "markdown",
   "id": "17cdea2a-1766-47a2-9b22-9b9b0cc2dc91",
   "metadata": {},
   "source": [
    "#### Exercise 3\n",
    "Make a plot of $\\rho_{\\mathrm{m}}$ in kg/m$^3$ versus time in Myr, using the results of the previous cells in this section. Set the axes of your plot to be logarithmic and give them appropriate labels. We have provided a model solution for this exercise in a separate _Solutions_ notebook. Try to write your own solution before looking at the answer though!"
   ]
  },
  {
   "cell_type": "code",
   "execution_count": 21,
   "id": "79a51936-74b0-4453-81f9-0c624309aa17",
   "metadata": {},
   "outputs": [
    {
     "data": {
      "text/plain": [
       "<matplotlib.legend.Legend at 0x7fef4773a6e0>"
      ]
     },
     "execution_count": 21,
     "metadata": {},
     "output_type": "execute_result"
    },
    {
     "data": {
      "image/png": "[encoded data removed]",
      "text/plain": [
       "<Figure size 500x500 with 1 Axes>"
      ]
     },
     "metadata": {},
     "output_type": "display_data"
    }
   ],
   "source": [
    "# We can plot arrays already computed, so do not need any new ones created \n",
    "\n",
    "# We need to create a plt 'figure' acting as a canvas, setting size to 5x5 inches\n",
    "fig = plt.figure(figsize=(5,5))\n",
    "\n",
    "# We now add a set of axes to our figure \n",
    "ax = fig.add_subplot(1,1,1)\n",
    "\n",
    "# Plot our data onto our axes and assign labels\n",
    "# Our time values are already in Myr, we just need to convert density to kg_per_m3\n",
    "ax.plot(t_vals, rho_m_vals_t.to(kg_per_m3), label=r\"$\\rho_{m}$\")\n",
    "\n",
    "# Set axes to be logarithmic\n",
    "ax.set_xscale(\"log\")\n",
    "ax.set_yscale(\"log\")\n",
    "\n",
    "# Set the labels for the x and y scales to appropriate values, specifying units\n",
    "ax.set_xlabel(\"t (Myr)\", fontsize=\"xx-large\")\n",
    "ax.set_ylabel(r\"$\\rho_{m}$ (kg m$^{-3}$)\", fontsize=\"xx-large\")\n",
    "\n",
    "# Add a legend to our axes\n",
    "ax.legend()"
   ]
  },
  {
   "cell_type": "markdown",
   "id": "30d20c9c-0441-4ba0-bcae-6a3aac98d0ab",
   "metadata": {},
   "source": [
    "#### Exercise 4\n",
    "Write one or more functions to compute the density of **radiation** ($\\rho_{\\mathrm{r}}$) in a **radiation dominated** universe as a function of time. Use the output of your function to make a plot of $\\rho_{\\mathrm{r}}c^{2}$ in **Joules per Mpc$^{3}$**. \n",
    "\n",
    "[_Hint_: The `astropy.constants` module can be used to get a unitful value for the speed of light and the `astropy.units` module provides a `Mpc` unit.]\n",
    "\n",
    "We have provided a model solution for this exercise in a separate _Solutions_ notebook. Try to write your own solution before looking at the answer though!"
   ]
  },
  {
   "cell_type": "markdown",
   "id": "b71bb8fb-b2a6-48d5-9e96-86e6be7f85b1",
   "metadata": {
    "tags": []
   },
   "source": [
    "This problem can be solved using a similar approach to the one we used for $\\rho_{\\mathrm{m}}$. \n",
    "\n",
    "In Chapter 4 of the _Cosmology and the distant Universe_ textbook we showed that:\n",
    "\n",
    "\\begin{equation}\n",
    "    \\rho_{\\mathrm{r}}(t) =\\frac{\\rho_{0,\\mathrm{r}}}{a(t)^{4}} = \\rho_{0,\\mathrm{r}}\\frac{t_{0, \\mathrm{r}}^{2}}{t^{2}}\\qquad\\mathrm(4)\n",
    "\\end{equation}\n",
    "\n",
    "This expression is identical in form to equation (2). It has the same number and configuration of dependent and independent variables and the same number of parameters. However, there is one key difference which is that $t_{0, \\mathrm{r}}\\neq t_{0, \\mathrm{m}}$. \n",
    "\n",
    "In exercise 4.4 in the _Cosmology and the distant Universe_ textbook, we proved that:\n",
    "\n",
    "\\begin{equation}\n",
    "    t_{0, \\mathrm{r}}=\\left[32\\pi G\\rho_{0,\\mathrm{r}}/3\\right]^{-1/2}\\qquad\\mathrm(5)\n",
    "\\end{equation}\n",
    "\n",
    "We can therefore write two functions that evaluate these two equations. \n",
    "\n",
    "\n",
    "We'll follow the same recipe as before, letting the functions compute and `return` the values of the dependent variables when given values of the parameters and independent variables as their input _arguments_."
   ]
  },
  {
   "cell_type": "code",
   "execution_count": 22,
   "id": "d20fd251-0359-4d0f-8dc5-a9e513f4e235",
   "metadata": {},
   "outputs": [
    {
     "name": "stdout",
     "output_type": "stream",
     "text": [
      "1) 5.0 kg / m3\n",
      "4) J / Mpc3\n"
     ]
    },
    {
     "data": {
      "text/plain": [
       "<matplotlib.legend.Legend at 0x7fef469d79a0>"
      ]
     },
     "execution_count": 22,
     "metadata": {},
     "output_type": "execute_result"
    },
    {
     "data": {
      "image/png": "[encoded data removed]",
      "text/plain": [
       "<Figure size 500x500 with 1 Axes>"
      ]
     },
     "metadata": {},
     "output_type": "display_data"
    }
   ],
   "source": [
    "# We need to write a function to evaluate equation 5. It has just one argument corresponding to the parameter `rho_0_radiation`.\n",
    "def compute_t0_radiation(rho_0_radiation):\n",
    "    # Again use the astropy.constants module and the numpy for values for G and pi\n",
    "    t_0_radiation = 1/np.sqrt(32*np.pi*apconsts.G*rho_0_radiation/3)\n",
    "    return t_0_radiation\n",
    "\n",
    "# We write another function to evaluate equation 4. It has two arguments corresponding to `t` and `rho_0_radiation`.\n",
    "def compute_rho_radiation_t(t, rho_0_radiation):\n",
    "    t_0_radiation = compute_t0_radiation(rho_0_radiation)\n",
    "    rho_radiation_t = rho_0_radiation*(t_0_radiation/t)**2\n",
    "    return rho_radiation_t\n",
    "\n",
    "# We already have an array of times in Myr\n",
    "# We we need to evaluate the energy density in Joules per cubic megaparsec using the `astropy.constants` and `astropy.units` modules\n",
    "\n",
    "# First we assign some units to rho_0_radiation\n",
    "rho_0_r_si = rho_0_r*kg_per_m3\n",
    "print(\"1)\", rho_0_r_si)\n",
    "\n",
    "# We now compute rho_r(t) in SI units using the function we defined above, using the same `t_vals` array that we used for the matter density\n",
    "rho_r_t_vals = compute_rho_radiation_t(t_vals, rho_0_r_si)\n",
    "\n",
    "# We now need to convert to energy density by multiplying by c^2 - we can get this value from the `astropy.constants` module.\n",
    "epsilon_r_t_vals = rho_r_t_vals*(apconsts.c**2)\n",
    "\n",
    "# We now convert the result to the units we want.\n",
    "epsilon_r_t_J_Mpc_vals = epsilon_r_t_vals.to(apunits.J/(apunits.Mpc**3))\n",
    "print(\"4)\", epsilon_r_t_J_Mpc_vals.unit)\n",
    "\n",
    "# We can now create a plt 'figure' - setting its size to 5x5 inches\n",
    "fig = plt.figure(figsize=(5,5))\n",
    "\n",
    "# Add a set of axes\n",
    "ax = fig.add_subplot(1,1,1)\n",
    "\n",
    "# Plot computed data onto our set of axes - assign labels \n",
    "ax.plot(t_vals, epsilon_r_t_J_Mpc_vals, label=r\"$\\rho_{m}c^{2}$\")\n",
    "\n",
    "# Set the x and y scales on our axes to be logarithmic.\n",
    "ax.set_xscale(\"log\")\n",
    "ax.set_yscale(\"log\")\n",
    "\n",
    "# Set the labels for the x and y scales to appropriate values\n",
    "ax.set_xlabel(\"t (Myr)\", fontsize=\"xx-large\")\n",
    "ax.set_ylabel(r\"$\\rho_{r}c^{2}$ (J Mpc$^{-3}$)\", fontsize=\"xx-large\")\n",
    "\n",
    "# Add a legend to our axes\n",
    "ax.legend()"
   ]
  },
  {
   "cell_type": "markdown",
   "id": "b3b79150-2e86-4ea9-a5e5-588df3336f48",
   "metadata": {
    "tags": []
   },
   "source": [
    "## Part 2: Curved universes and multi-component universes\n",
    "In the previous section, you wrote code to evaluate analytic expression (solutions to the Friedmann and Fluid equations) that describe how density evolves in **flat**, **single component** universes. In general, universes can be **curved** ($k\\neq0$) and can contain matter ($\\mathrm{m}$), radiation ($\\mathrm{r}$) and a cosmological constant ($\\Lambda$). In this section we will investigate these more complicated universes and show how to use Python to model cosmic expansion, even when analytic solutions to the Friedmann equation do not exist. \n",
    "\n",
    "In Chapter 4 of the _Cosmology and the distant Universe_ textbook, you showed that the Friedmann equation can be written as:\n",
    "\n",
    "\\begin{equation}\n",
    "    \\frac{H^{2}}{H_{0}^{2}} = \\frac{\\Omega_{\\mathrm{m},0}}{a^{3}} + \\frac{\\Omega_{\\mathrm{r},0}}{a^{4}} + \\Omega_{\\Lambda,0} - \\frac{(\\Omega_{0}-1)}{a^{2}}\\qquad(8)\n",
    "\\end{equation}\n",
    "\n",
    "where\n",
    "\n",
    "\\begin{equation}\n",
    "\\Omega_{0} = \\Omega_{\\mathrm{m},0} + \\Omega_{\\mathrm{r},0}+ \\Omega_{\\Lambda,0} \\equiv 1-\\Omega_{k}\n",
    "\\end{equation}\n",
    "We will make extensive use of the Friedmann equation in this form in the subsequent examples and exercises. \n",
    "\n",
    "### Part 2.1: Curved universes containing matter\n",
    "\n",
    "In curved universes that _only contain matter_, the Friedmann equation simplifies to:\n",
    "\n",
    "\\begin{equation}\n",
    "    \\frac{H^{2}}{H_{0}^{2}} = \\frac{\\Omega_{\\mathrm{m},0}}{a^{3}} + \\frac{1-\\Omega_{\\mathrm{m},0}}{a^{2}}\\qquad (9)\n",
    "\\end{equation}\n",
    "\n",
    "Deriving solutions to Equation (9) is beyond the scope of this module, so we did not do so in the _Cosmology and the Distant Universe_ textbook. However Equation (9) _can_ be solved to obtain expressions for $a$ and $t$ in terms of a third parameter called the _conformal time_ ($\\eta$). We do not expect that you will have met the concept of conformal time, but this is not important. To complete the following exercises you can just treat $\\eta$ like any other variable in  If $\\Omega_{\\mathrm{m},0}>1$ then the universe is positively curved and the solutions for equation (9) are:\n",
    "\n",
    "\\begin{equation}\n",
    "a(\\eta) = \\frac{\\Omega_{\\mathrm{m},0}}{2(\\Omega_{\\mathrm{m},0}-1)}(1-\\cos\\eta)\\qquad(10)\n",
    "\\end{equation}\n",
    "\n",
    "\\begin{equation}\n",
    "t(\\eta) =\\frac{\\Omega_{\\mathrm{m},0}}{2H_{0}(\\Omega_{\\mathrm{m},0}-1)^{3/2}}(\\eta-\\sin\\eta)\\qquad(11)\n",
    "\\end{equation}\n",
    "\n",
    "These equations are valid for $0\\leq\\eta\\leq2\\pi$ and trace out a _cycloid_ curve that describes the evolution of $a$ in a \"Big Crunch\" universe. On the other hand, if $\\Omega_{\\mathrm{m},0}<1$ then the universe is **negatively curved** and the solutions for equation (9) are: \n",
    "\n",
    "\\begin{equation}\n",
    "a(\\eta) = \\frac{\\Omega_{\\mathrm{m},0}}{2(1-\\Omega_{\\mathrm{m},0})}(\\cosh\\eta-1)\\qquad(12)\n",
    "\\end{equation}\n",
    "\n",
    "\\begin{equation}\n",
    "t(\\eta) = \\frac{\\Omega_{\\mathrm{m},0}}{2H_{0}(1-\\Omega_{\\mathrm{m},0})^{3/2}}(\\sinh\\eta-\\eta)\\qquad(13)\n",
    "\\end{equation}\n",
    "\n",
    "These equations are valid for $0\\leq\\eta\\leq\\infty$ and describe the evolution of a \"Big Chill\" universe in which $a$ continues to grow forever and $\\mathrm{d}a/\\mathrm{d}t$ never reaches 0, even when $\\eta$ and $t$ are infinite.\n",
    "\n"
   ]
  },
  {
   "cell_type": "markdown",
   "id": "a0326d25-ad72-49a9-9639-d0fd9804e917",
   "metadata": {},
   "source": [
    "The next cell demonstrates how to use Equations (10) and (11) to plot $a(t)$ for a \"Big Crunch\" universe."
   ]
  },
  {
   "cell_type": "code",
   "execution_count": 1,
   "id": "1c1d6eb8-29b5-4b0b-9738-b54713da0712",
   "metadata": {},
   "outputs": [
    {
     "ename": "NameError",
     "evalue": "name 'np' is not defined",
     "output_type": "error",
     "traceback": [
      "\u001b[0;31m---------------------------------------------------------------------------\u001b[0m",
      "\u001b[0;31mNameError\u001b[0m                                 Traceback (most recent call last)",
      "Cell \u001b[0;32mIn[1], line 18\u001b[0m\n\u001b[1;32m     15\u001b[0m omega_m_0_big_crunch \u001b[38;5;241m=\u001b[39m \u001b[38;5;241m1.3\u001b[39m\n\u001b[1;32m     16\u001b[0m \u001b[38;5;66;03m# Use the numpy `linspace` function to generate 50 values of eta, linearly\u001b[39;00m\n\u001b[1;32m     17\u001b[0m \u001b[38;5;66;03m# spaced between 0 and 2*pi\u001b[39;00m\n\u001b[0;32m---> 18\u001b[0m eta_vals_big_crunch \u001b[38;5;241m=\u001b[39m \u001b[43mnp\u001b[49m\u001b[38;5;241m.\u001b[39mlinspace(\u001b[38;5;241m0\u001b[39m, \u001b[38;5;241m2\u001b[39m\u001b[38;5;241m*\u001b[39mnp\u001b[38;5;241m.\u001b[39mpi, \u001b[38;5;241m50\u001b[39m)\n\u001b[1;32m     20\u001b[0m \u001b[38;5;66;03m# 3) Use the functions we wrote to compute values for a and t using\u001b[39;00m\n\u001b[1;32m     21\u001b[0m \u001b[38;5;66;03m# the values of eta between 0 and 2 pi.\u001b[39;00m\n\u001b[1;32m     22\u001b[0m a_vals_big_crunch \u001b[38;5;241m=\u001b[39m compute_a_eta_big_crunch(eta_vals_big_crunch, omega_m_0_big_crunch)\n",
      "\u001b[0;31mNameError\u001b[0m: name 'np' is not defined"
     ]
    }
   ],
   "source": [
    "# 1) Define two functions that compute a and t in a Big Crunch universe\n",
    "# for given values of eta and the current matter density parameter.\n",
    "def compute_a_eta_big_crunch(eta, omega_m_0):\n",
    "    a_vals = 0.5*(1-np.cos(eta))*omega_m_0/(omega_m_0-1)\n",
    "    return a_vals\n",
    "\n",
    "def compute_t_eta_big_crunch(eta, omega_m_0):\n",
    "    t_vals = 0.5*(eta-np.sin(eta))*omega_m_0/(omega_m_0-1)**(3/2)\n",
    "    return t_vals \n",
    "\n",
    "# 2) Define input values and parameters for the functions we just \n",
    "# wrote to model a Big Crunch universe. Remember that when the current \n",
    "# matter density parameter is more than 1, valid values for eta run\n",
    "# between 0 and 2 pi. We can use the numpy module to get a value for pi.\n",
    "omega_m_0_big_crunch = 1.3\n",
    "# Use the numpy `linspace` function to generate 50 values of eta, linearly\n",
    "# spaced between 0 and 2*pi\n",
    "eta_vals_big_crunch = np.linspace(0, 2*np.pi, 50)\n",
    "\n",
    "# 3) Use the functions we wrote to compute values for a and t using\n",
    "# the values of eta between 0 and 2 pi.\n",
    "a_vals_big_crunch = compute_a_eta_big_crunch(eta_vals_big_crunch, omega_m_0_big_crunch)\n",
    "t_vals_big_crunch = compute_t_eta_big_crunch(eta_vals_big_crunch, omega_m_0_big_crunch)\n",
    "\n",
    "# 4) Follow the (by now) familiar steps to set up our axes for plotting\n",
    "fig = plt.figure(figsize=(5,5))\n",
    "ax = fig.add_subplot(1,1,1)\n",
    "\n",
    "# 5) Plot our data for the big crunch universe onto our set of axes using \n",
    "# the axes' \"plot\" method and add a \"Big Crunch\" label.\n",
    "ax.plot(t_vals_big_crunch, a_vals_big_crunch, label=\"Big Crunch\")\n",
    "\n",
    "# 6) Set the labels for the x and y scales to appropriate values\n",
    "# and make the text large so we can read it easily.\n",
    "ax.set_xlabel(\"$H_{0}t$\", fontsize=\"xx-large\")\n",
    "ax.set_ylabel(\"$a$\", fontsize=\"xx-large\")\n",
    "\n",
    "# 7) Add a legend to distinguish the two curves.\n",
    "ax.legend()"
   ]
  },
  {
   "cell_type": "markdown",
   "id": "f51441d2-c9b7-4e9e-8bf9-6e3656948ea6",
   "metadata": {},
   "source": [
    "It looks like our solution worked! Setting $\\Omega_{\\mathrm{m,0}}=1.1$ modelled a big crunch universe that recollapses after about 110 Hubble times."
   ]
  },
  {
   "cell_type": "markdown",
   "id": "97292714-3341-44fd-aa48-22a396a54a6d",
   "metadata": {
    "tags": []
   },
   "source": [
    "#### Exercise 5 \n",
    "Make a plot of $a$ versus $H_{0}t$ for a universe with $\\Omega_{\\mathrm{m},0}=1.1$ on _linear_ axes. On the same axes, plot the curve of $a$ versus $H_{0}t$ for a universe with $\\Omega_{\\mathrm{m},0}=0.9$. Use the techniques you have learned so far in this activity. Design and write functions for all of the equations you need to evaluate. Compute the values you want to plot and use `matplotlib` functions to plot those data. Remember that you can use `numpy` arrays to compute outputs for many inputs at the same time.\n",
    "\n",
    "[*Hint*: You will need to choose a sensible range of values for $t$ (or equivalently $\\eta$) so that you can compare the evolution of $a$ in both universes.]"
   ]
  },
  {
   "cell_type": "code",
   "execution_count": 24,
   "id": "abec0a40-470f-4e4f-b3b3-395ca4e42546",
   "metadata": {},
   "outputs": [
    {
     "data": {
      "text/plain": [
       "<matplotlib.legend.Legend at 0x7fef46c074f0>"
      ]
     },
     "execution_count": 24,
     "metadata": {},
     "output_type": "execute_result"
    },
    {
     "data": {
      "image/png": "[encoded data removed]",
      "text/plain": [
       "<Figure size 500x500 with 1 Axes>"
      ]
     },
     "metadata": {},
     "output_type": "display_data"
    }
   ],
   "source": [
    "# We need to define two functions that compute a and t in a Big Chill universe, for given values of eta and the current matter density parameter.\n",
    "def compute_a_eta_big_chill(eta, omega_m_0):\n",
    "    a_vals = 0.5*(np.cosh(eta)-1)*omega_m_0/(1-omega_m_0)\n",
    "    return a_vals\n",
    "\n",
    "def compute_t_eta_big_chill(eta, omega_m_0):\n",
    "    t_vals = 0.5*(np.sinh(eta)-eta)*omega_m_0/(1-omega_m_0)**(3/2)\n",
    "    return t_vals\n",
    "\n",
    "# We define input values and parameters for functions \n",
    "# When current matter density parameter is less than 1, valid values for eta are between 0 and infinity. \n",
    "# Infinite eta implies infinite a and t - pick arbitrary end point\n",
    "omega_m_0_big_chill = 0.9\n",
    "# Use the numpy `linspace` function\n",
    "eta_vals_big_chill = np.linspace(0, 3.5, 50)\n",
    "\n",
    "# We now do the same for the big chill universe\n",
    "a_vals_big_chill = compute_a_eta_big_chill(eta_vals_big_chill, omega_m_0_big_chill)\n",
    "t_vals_big_chill = compute_t_eta_big_chill(eta_vals_big_chill, omega_m_0_big_chill)\n",
    "\n",
    "# Set up our axes\n",
    "fig = plt.figure(figsize=(5,5))\n",
    "ax = fig.add_subplot(1,1,1)\n",
    "\n",
    "# Plot data for the big crunch universe onto our set of axes\n",
    "ax.plot(t_vals_big_crunch, a_vals_big_crunch, label=\"Big Crunch\")\n",
    "\n",
    "# Plot our data for the big chill universe\n",
    "ax.plot(t_vals_big_chill, a_vals_big_chill, label=\"Big Chill\")\n",
    "\n",
    "# Set the labels for the x and y scales to appropriate values - assign labels \n",
    "ax.set_xlabel(\"$H_{0}t$\", fontsize=\"xx-large\")\n",
    "ax.set_ylabel(\"$a$\", fontsize=\"xx-large\")\n",
    "\n",
    "# Add a legend to distinguish the two curves.\n",
    "ax.legend()"
   ]
  },
  {
   "cell_type": "markdown",
   "id": "0829e3be-f4b7-44a7-82a1-ecb5612448bb",
   "metadata": {},
   "source": [
    "### Part 2.2 - Solving General Models\n",
    "In this part of this activity, you will learn how to use Python to solve equation (8) for any configuration of density parameters. Unfortunately, for many of these configurations, the Friedmann equation does not have simple analytic solutions that we can evaluate using simple functions. We will need to use slightly more advanced computational methods to numerically solve equation (8) and determine $a(t)$.\n",
    "\n",
    "Equation (8) can be rearranged into a _first order differential equation_ that relates $a$ and it's first time derivative $\\mathrm{d}a/\\mathrm{d}t$:\n",
    "\\begin{equation}\n",
    "    \\frac{\\mathrm{d}a}{\\mathrm{d}t} = H_{0}\\sqrt{\\frac{\\Omega_{\\mathrm{m},0}}{a} + \\frac{\\Omega_{\\mathrm{r},0}}{a^{2}} + a^{2}\\Omega_{\\Lambda,0} - (\\Omega_{0}-1)}\\qquad(14)\n",
    "\\end{equation}\n",
    "\n",
    "Our goal is to be able to solve equation (14) numerically for any combination of $\\Omega_{\\mathrm{m},0}$, $\\Omega_{\\mathrm{r},0}$, $\\Omega_{\\Lambda,0}$ and $H_{0}$. To do that we will use a function called `solve_ivp` from the `integrate` module in the `scipy` Python package. The `ivp` part in `solve_ivp` stands for \"initial value problem\". We will tell the function initial values for $a$ and $t$ and it will solve equation (14) to determine the value of $a$ at some later time $t+\\delta t$. By doing this many times for small values of $\\delta t$, `solve_ivp` will be able to trace out the curve of $a$ versus $t$. \n",
    "\n",
    "Let's look in a bit more detail at how `solve_ivp` works. The function is actually capable of solving first order differential equations for which the derivative is a function of the dependent _and_ independent variables. In mathematical notation, `solve_ivp` can solve equations in the form:\n",
    "\\begin{equation}\n",
    "\\frac{\\mathrm{d}y}{\\mathrm{d}t}=f(y, t)\\qquad(15)\n",
    "\\end{equation}\n",
    "We won't need all this power for this activity since the right hand side of equation (14) only depends explicitly on $a$ and is independent of $t$. However, it will be useful to know that `solve_ivp` is designed to solve more complicated problems because it will help explain some of the code we write later. \n",
    "\n",
    "Internally, `solve_ivp` uses an approach called the \"[Runge Kutta method](https://en.wikipedia.org/wiki/Runge–Kutta_methods#The_Runge–Kutta_method)\". Given a function that evaluates $dy/dt$ given $y$ and $t$ and a pair of initial values $t_{0}$ and $y_{0} = y(t=t_{0})$, `solve_ivp` estimates the value of $y_{1}\\approx y(t_{1})$ where  $t_{1}>t_{0}$ is another time point further along the curve of $y(t)$ (You can visit the link to find out how this estimate is computed, but the details aren't important for our purposes). It then uses these new values $y_{1}$ and $t_{1}$ as its new starting point and repeats the procedure over and over again. After $n$ steps `solve_ivp` will have computed two lists:\n",
    "\\begin{equation}\n",
    "y = \\{y_{0}, y_{1}, y_{2},\\ldots, y_{n}\\}\n",
    "\\end{equation}\n",
    "\\begin{equation}\n",
    "t = \\{t_{0}, t_{1}, t_{2},\\ldots, t_{n}\\}\n",
    "\\end{equation}\n",
    "These lists represent our numerical estimate for the curve $y(t)$ and our solution for equation (15)."
   ]
  },
  {
   "cell_type": "markdown",
   "id": "460cc442-a255-4503-9477-9c61b3287ca5",
   "metadata": {},
   "source": [
    "Let's demonstrate how `solve_ivp` works with an example. We'll compute a numerical solution for equation (9) with $\\Omega_{\\mathrm{m},0}=1.1$ and compare it with the analytic solution given in equations (10) and (11). The first step is to rewrite equation (9) to isolate the $da/dt$ term. This gives us:\n",
    "\n",
    "\\begin{equation}\n",
    "    \\frac{\\mathrm{d}a}{\\mathrm{d}t} = H_{0}\\sqrt{\\frac{\\Omega_{\\mathrm{m},0}}{a} - (\\Omega_{\\mathrm{m},0}-1)}\\qquad(16)\n",
    "\\end{equation}\n",
    "\n",
    "Let's write a function that will evaluate equation (16). To do so we need to be aware of some requirements of the `solve_ivp` function.\n",
    "\n",
    "1. Remember that `solve_ivp` can be used to solve problems like equation (15) where the derivative depends on two variables. Even though $da/dt$ only depends on $a$ we still need to write our function to accept values for $a$ and $t$ (even though we won't use its value) in order for `solve_ivp` to accept it. The first two arguments to our function **must** be $t$ and $a$ **in that order**.\n",
    "2. When we call a `solve_ivp` we will pass a list of parameters (in our case $\\Omega_{\\mathrm{m}, 0}$). These parameters will be passed into **_our_** function after $t$ and $a$, in the same order that we pass them to `solve_ivp`.\n",
    "\n",
    "With these requirements in mind, let's write our function. We'll call it `compute_da_dt_expand` for reasons that will become clear later. To be able to compare our result with the analytic one, we'll write our function to return $\\mathrm{d}a/\\mathrm{d}t$ as a multiple of $H_{0}$."
   ]
  },
  {
   "cell_type": "code",
   "execution_count": 25,
   "id": "cd0717c0-466c-4bee-ae0d-ee4597c4c884",
   "metadata": {},
   "outputs": [],
   "source": [
    "# Note the order of the function arguments, see the text above for more details\n",
    "def compute_da_dt_expand(t, a, omega_m_0):\n",
    "    # Evaluate equation (16) (divided by H_0 so the final\n",
    "    # result is in multiples of H_0)\n",
    "    da_dt = np.sqrt((omega_m_0/a) - (omega_m_0-1))\n",
    "    # Return the result.\n",
    "    return da_dt"
   ]
  },
  {
   "cell_type": "markdown",
   "id": "83496c1c-4405-45d8-a916-0cead62d251d",
   "metadata": {},
   "source": [
    "Now we need to specify our initial values $a_{0}$ and $t_{0}$ and our parameter $\\Omega_{\\mathrm{m},0}$. Note that we actually set $a_{0}=10^{-6}$ and **not** $a_{0}=0$. This is because our function contains an $\\Omega_{\\mathrm{m},0}/a$ term, which is not defined when $a=0$ and our function would return \"Not-a-Number\" (`NaN` for short). This return value would make it impossible for `solve_ivp` to estimate $a_{1}$ and our solution would fail."
   ]
  },
  {
   "cell_type": "code",
   "execution_count": 26,
   "id": "66ad7031-4151-497c-80fb-cd9476edb762",
   "metadata": {},
   "outputs": [],
   "source": [
    "t_0 = 0\n",
    "a_0 = 1e-6 # Note that a_0 > 0 to avoid returning NaN \n",
    "omega_m_0 = 1.1 # This value corresponds with a big crunch universe"
   ]
  },
  {
   "cell_type": "markdown",
   "id": "40e092b4-04c5-4335-8f8f-1fae7355cb90",
   "metadata": {},
   "source": [
    "Now let's import the `scipy.integrate` module so we can actually call the `solve_ivp` function."
   ]
  },
  {
   "cell_type": "code",
   "execution_count": 27,
   "id": "2694ad2c-7d57-4b75-aa3f-75075295c584",
   "metadata": {},
   "outputs": [],
   "source": [
    "# Import the integrate module from the scipy package and assign\n",
    "# it the short alias `spint`.\n",
    "import scipy.integrate as spint"
   ]
  },
  {
   "cell_type": "markdown",
   "id": "5b7c9c54-0823-48bf-99bd-495a715ba68e",
   "metadata": {},
   "source": [
    "Now we're finally ready to call `solve_ivp`. Again, there are several requirements that we need to be aware of:\n",
    "\n",
    "1. The *first* argument to `solve_ivp` is the **name** of the function that evaluates the derivative. In this example, we have called our function `compute_da_dt_expand` so we pass that. Note that the name is bare - you don't need to add parentheses `()`, or arguments.\n",
    "2. The *second* argument to `solve_ivp` is a Python `list` with two values that specify the range of $t$ values over which we would like to estimate $a(t)$. The first element in the list is the smallest value of $t$ we want to consider (we'll use our initial value `t_0` in this example). The second element in the list is the largest value of $t$ we want to consider. Since we want to compare our numerical estimate with the analytic calculation we performed above, we'll specify the final value in the  `t_vals_big_crunch` array that we created previously [_Tip_: To extract the final element from an array you can just type `[-1]` after the array's name. You can see an example of this in the next code cell.]\n",
    "3. The *third* argument to `solve_ivp` is the initial value for the dependent variable ($a_{0}$ in our case). This **must also** be also a Python `list`, even if that list only has one element. The reason for this requirement is that `solve_ivp` can also process vector-valued variables. The list allows callers to specify initial values for each element of the vector.\n",
    "4. To tell `solve_ivp` that we would like to pass additional parameters to _our_ function (like $\\Omega_{\\mathrm{m},0}$ in this example), we need to pass a Python `list` as the value of the `args` keyword argument. In the example below, this looks like `args=[omega_m_0]`.\n",
    "5. Finally, we can instruct `solve_ivp` to return a solution \"object\". This object contains useful information like the minimum and maximum values of $t$ that have a valid solution and is also able to compute $a(t)$ at any $t$ in the valid solution range by interpolating between the values of $a(t)$ that were actually estimated by `solve_ivp` during its operation. To get a solution object we need to set the `dense_output` keyword argument equal to `True`.\n",
    "6. The result of calling `solve_ivp` is a result \"object\" that contains information about the solution that `solve_ivp` as well as the solution object itself (if we requested it).\n",
    "\n",
    "That's a lot of text, so let's look at an example. We'll call `solve_ivp` and then print the result."
   ]
  },
  {
   "cell_type": "code",
   "execution_count": 28,
   "id": "0039f2cc-7058-4382-a4d5-312b00fd1a17",
   "metadata": {},
   "outputs": [
    {
     "name": "stdout",
     "output_type": "stream",
     "text": [
      "  message: The solver successfully reached the end of the integration interval.\n",
      "  success: True\n",
      "   status: 0\n",
      "        t: [ 0.000e+00  9.535e-10 ...  6.020e+01  1.093e+02]\n",
      "        y: [[ 1.000e-06  1.842e-06 ...  1.100e+01  1.100e+01]]\n",
      "      sol: <scipy.integrate._ivp.common.OdeSolution object at 0x7feea1f4ef50>\n",
      " t_events: None\n",
      " y_events: None\n",
      "     nfev: 740\n",
      "     njev: 0\n",
      "      nlu: 0\n"
     ]
    },
    {
     "name": "stderr",
     "output_type": "stream",
     "text": [
      "/tmp/ipykernel_37/1723151701.py:5: RuntimeWarning: invalid value encountered in sqrt\n",
      "  da_dt = np.sqrt((omega_m_0/a) - (omega_m_0-1))\n"
     ]
    }
   ],
   "source": [
    "# Call solve_ivp and save the result\n",
    "result = spint.solve_ivp(\n",
    "     # The name of the function that computes da/dt\n",
    "    compute_da_dt_expand, \n",
    "    # The range of `t` values to estimate `a` for \n",
    "    # (use the highest value from our analytic solution as the end point).\n",
    "    [t_0, t_vals_big_crunch[-1]], \n",
    "    # The initial value for the scale factor\n",
    "    # (must be passed as a list within square brackets, even though there's only one value)\n",
    "    [a_0], \n",
    "    # The parameters we want to pass to our function \n",
    "    # (must be passed as a list within square brackets, even though there's only one value)\n",
    "    args=[omega_m_0],\n",
    "    # Setting dense_output=True lets us interpolate our solution when plotting.\n",
    "    dense_output=True,\n",
    ")\n",
    "# Print the result of running solve_ivp\n",
    "print(result)"
   ]
  },
  {
   "cell_type": "markdown",
   "id": "0ede0095-f080-4f91-be55-fcb9a5e2b0ac",
   "metadata": {},
   "source": [
    "**Note:** The `solve_ivp` function often issues warnings like the one above. For the purposes of this activity you can assume it is safe to ignore them."
   ]
  },
  {
   "cell_type": "markdown",
   "id": "18b3525c-26cb-4991-8eb3-e2542fa6dff8",
   "metadata": {},
   "source": [
    "When we print the result we see that it contains lots of separate elements. For now, many of these aren't interesting for us. Some that are include:\n",
    "0. The message tells us that the solver was able to traverse the entire target range of $t$ values.\n",
    "1. The value of `success` (`True`), which tells us that nothing went wrong with the solution.\n",
    "2. The values of `t` and `y`. These are the actual lists of $t$ and $a(t)$ values that `solve_ivp` generated when it ran. Note that the name `y` just reflects the internal convention of `solve_ivp`\n",
    "3. The value of `sol`. This is the solution object that we can use to estimate values for $a(t)$ that are not in the `y` array.\n",
    "\n",
    "Let's show how to use the solution object to plot the $a(t)$ versus $t$. The solution object _behaves_ like a function - we can call it. If we pass it an array of numbers it will interpret them as values of $t$ and return the corresponding values of $a(t)$. One subtlety is that the solution object will return $a(t)$ as a 2D array. This is another implication of the fact that `solve_ivp` can handle vector-valued variables, but the second dimension is superfluous in our case since our variable is scalar-valued. You can use the `squeeze` function from the `numpy` package to \"squeeze\" out superfluous dimensions and yield a 1D array that we can plot."
   ]
  },
  {
   "cell_type": "code",
   "execution_count": 29,
   "id": "498ba9e9-8f37-4c3e-bec2-50bc6e99d59e",
   "metadata": {},
   "outputs": [
    {
     "data": {
      "text/plain": [
       "<matplotlib.legend.Legend at 0x7feea1f78730>"
      ]
     },
     "execution_count": 29,
     "metadata": {},
     "output_type": "execute_result"
    },
    {
     "data": {
      "image/png": "[encoded data removed]",
      "text/plain": [
       "<Figure size 500x500 with 1 Axes>"
      ]
     },
     "metadata": {},
     "output_type": "display_data"
    }
   ],
   "source": [
    "# Get a reference to the solution object from the result\n",
    "solution = result.sol\n",
    "\n",
    "# The solution object behaves like a function so we can call\n",
    "# it and pass it arguments.\n",
    "\n",
    "# We use the solution object to compute values for a(t) for the\n",
    "# t values in the `t_vals_big_crunch` array that we created in \n",
    "# part 2.1. Note that the solution object returns a 2D array (but\n",
    "# the second dimension is superfluous) so we use np.squeeze to \n",
    "# compress the array to a single dimension.\n",
    "a_vals_big_crunch_numerical = np.squeeze(\n",
    "    solution(t_vals_big_crunch) # calling the solution object\n",
    ")\n",
    "\n",
    "# Create some axes to plot the solution into\n",
    "fig = plt.figure(figsize=(5,5))\n",
    "ax = fig.add_subplot(1,1,1)\n",
    "\n",
    "# Use the axes plot function to plot our numerically computed result.\n",
    "# Give it the label \"Numerical\". We set the `lw` keyword argument to 3\n",
    "# so that the line is thicker than standard (lw is short for \"line width\")\n",
    "ax.plot(t_vals_big_crunch, a_vals_big_crunch_numerical, lw=3, label=\"Numerical\")\n",
    "\n",
    "# Now plot the analytic solution we computed earlier. Give it the label \"Analytic\". \n",
    "# We set the `ls` keyword argument to \"--\" to plot a dashed line (ls is short for \n",
    "# \"line style\".)\n",
    "ax.plot(t_vals_big_crunch, a_vals_big_crunch, ls=\"--\", label=\"Analytic\", c=\"k\")\n",
    "\n",
    "# Set the labels for the x and y scales to appropriate values\n",
    "# and make the text large so we can read it easily.\n",
    "ax.set_xlabel(\"$H_{0}t$\", fontsize=\"xx-large\")\n",
    "ax.set_ylabel(\"$a$\", fontsize=\"xx-large\")\n",
    "\n",
    "# Add a legend to distinguish the two curves.\n",
    "ax.legend()"
   ]
  },
  {
   "cell_type": "markdown",
   "id": "efaa9d40-b0dd-4dde-b36c-fbc642fde23e",
   "metadata": {},
   "source": [
    "It seems like we have a problem. The numerical solution matches the analytic one perfectly until the peak but then the value it predicts stays at the peak value until the end of the time interval we specified! So what went wrong? Before you read on, you might like to review what you know about how `solve_ivp` works and see if you can work out what's happening yourself."
   ]
  },
  {
   "cell_type": "markdown",
   "id": "fd1ca48d-8c4a-43e7-8d54-be66288da557",
   "metadata": {},
   "source": [
    "The answer is related to the way that `solve_ivp` computes its solution. Remember that it uses the value of $\\mathrm{d}a/\\mathrm{d}t$ at time $t_{\\mathrm{peak}}$ to predict the value of $a$ at some future time $t_{\\mathrm{peak}}+\\delta t$. At the peak, $\\mathrm{d}a/\\mathrm{d}t = 0$ so `solve_ivp` predicts that:\n",
    "\\begin{equation}\n",
    "a(t_{\\mathrm{peak}}+\\delta t)=a(t_{\\mathrm{peak}}) + \\frac{da}{dt}\\delta t = a(t_{\\mathrm{peak}})\n",
    "\\end{equation}\n",
    "Now recall that the expression for $\\mathrm{d}a/\\mathrm{d}t$ only depends on the value of $a$. Since `solve_ivp` has predicted that $a(t_{\\mathrm{peak}}+\\delta t)=a_{\\mathrm{peak}}=a(t_{\\mathrm{peak}})$ it must also compute:\n",
    "\\begin{equation}\n",
    "\\frac{\\mathrm{d}a}{\\mathrm{d}t}(t_{\\mathrm{peak}}+\\delta t)=\\frac{\\mathrm{d}a}{\\mathrm{d}t}(t_{\\mathrm{peak}})=0\n",
    "\\end{equation}\n",
    "Now the situation is identical to the one we started with. At all future timesteps, `solve_ivp` will estimate $a=a(t_{\\mathrm{peak}})$ and $\\mathrm{d}a/\\mathrm{d}t=0$, which is exactly what we see in our solution. "
   ]
  },
  {
   "cell_type": "markdown",
   "id": "928fb917-e45c-4c7b-9daf-e2b9717a6ea9",
   "metadata": {},
   "source": [
    "So how can we overcome this issue? Well, we saw in Chapter 4 of the _Cosmology and the distant Universe_ textbook that the Friedmann equation is _time reversible_. That means that we can describe the collapse phase of the big crunch universe as a time reversal of the expansion phase. So let's write a new function that models the collapse phase (now you know why we called our original function `compute_da_dt_expand` - it was to distinguish it from the one we're about to write!). Our new function will be almost exactly the same as the one that models the expansion. The only difference is that we will multiply the result by -1 before returning it. Here's what our function looks like:"
   ]
  },
  {
   "cell_type": "code",
   "execution_count": 30,
   "id": "b89c03c8-fed8-47e5-a79e-16ff443a0b88",
   "metadata": {},
   "outputs": [],
   "source": [
    "def compute_da_dt_collapse(t, a, omega_m_0):\n",
    "    da_dt = np.sqrt((omega_m_0/a) - (omega_m_0-1))\n",
    "    return -da_dt"
   ]
  },
  {
   "cell_type": "markdown",
   "id": "8c79961c-769b-4daf-b1bf-99699605916f",
   "metadata": {},
   "source": [
    "Next, we need to work out what our initial $a$ value and our start time should be for the collapse phase. We could use the peak values $a_{\\mathrm{peak}}$ and $t_{\\mathrm{peak}}$, but that wouldn't work. Why? It's because $\\mathrm{d}a/\\mathrm{d}t(a_{\\mathrm{peak}})=0$ and `solve_ivp` would simply return $a_{\\mathrm{peak}}$ for all values of $t$. Instead, we'll pick an initial value for $a$ that's slightly less than $a_{\\mathrm{peak}}$, then $\\mathrm{d}a/\\mathrm{d}t$ will be small but nonzero and `solve_ivp` will be able to correctly predict how $a$ evolves during the collapse phase.\n",
    "\n",
    "How do we determine the values of $a_{\\mathrm{peak}}$ and $t_{\\mathrm{peak}}$? In this _particular_ case we could find the peak value of $a$ by setting $\\mathrm{d}a/\\mathrm{d}t=0$ in equation (16) and rearranging to find $a_{\\mathrm{peak}}$. Then we could integrate equation (16) to find the value of $t_{\\mathrm{peak}}$ that corresponds to $a_{\\mathrm{peak}}$. The mathematics isn't particluarly fun but it is possible. However this analytic approach would **not** be possible if we were solving for the general case described by equation (14). Since our goal is to numerically evaluate $a(t)$ for _any_ model universe, let's use some more features of `solve_ivp` that will let us determine $a_{\\mathrm{peak}}$ and $t_{\\mathrm{peak}}$ for any \"Big Crunch\" universe that can be described by equation (14).\n",
    "\n",
    "One useful feature of the `solve_ivp` function is its ability to watch for the occurence of \"events\" as it executes. We define an event by writing a function that accepts the same arguments as the functions that compute the derivative (`compute_da_dt_expand` and `compute_da_dt_collapse` in this example). _**The \"event\" function must return zero when the event occurs and non-zero values otherwise.**_\n",
    "\n",
    "In this case, the \"event\" that we're interested in detecting is the point when $\\mathrm{d}a/\\mathrm{d}t=0$ at the end of the expansion phase. A function that returns zero when this happens is `compute_da_dt_expand` itself! Unfortunately, we can't use `compute_da_dt_expand` directly as our event function because `solve_ivp` will pass the value of $a$ to the function we do use as a one-dimensional array (remember that $a$ can be a vector in general) and `compute_da_dt_expand` expects $a$ to be a scalar. Luckily we know how to deal with this situation. We'll just `squeeze` the value of $a$ that get's passed to our \"event\" function and pass it along to `compute_da_dt_expand` to perform the actual computation of $\\mathrm{d}a/\\mathrm{d}t$. Here's what that looks like:"
   ]
  },
  {
   "cell_type": "code",
   "execution_count": 31,
   "id": "4eb72e6a-f4b0-471a-8207-061876146c7f",
   "metadata": {},
   "outputs": [],
   "source": [
    "# Define an \"event\" function that returns zero when da/dt = 0\n",
    "# It should accept exactly the same arguments as the function\n",
    "# `solve_ivp` uses to compute the derivative da/dt (in this \n",
    "# case those arguments are `t`, `a` and `omega_m_0`)\n",
    "def zero_gradient_event(t, a, omega_m_0):\n",
    "    # `solve_ivp` passes `a` as a 1D array, so we use `squeeze` from \n",
    "    # the `numpy` package to compress the redundant dimension and\n",
    "    # convert `a` to a scalar.\n",
    "    a_scalar = np.squeeze(a)\n",
    "    # Now just use the function we already wrote to compute the \n",
    "    # derivative and return its value directly.\n",
    "    return compute_da_dt_expand(t, a_scalar, omega_m_0)"
   ]
  },
  {
   "cell_type": "markdown",
   "id": "533469ca-8efa-4f9a-8647-ad2e97983044",
   "metadata": {},
   "source": [
    "Once the event function has been defined, we can instruct `solve_ivp` to terminate its execution when it encounters values of $a$ and $t$ that make its return value equal zero. To do this, we set the `terminal` property of our \"event\" function equal to `True`."
   ]
  },
  {
   "cell_type": "code",
   "execution_count": 32,
   "id": "c4a864b9-17f5-43f9-851c-25e3e3985ded",
   "metadata": {},
   "outputs": [],
   "source": [
    "zero_gradient_event.terminal = True"
   ]
  },
  {
   "cell_type": "markdown",
   "id": "743ce144-104a-4a8c-9663-3b671c4c3fc4",
   "metadata": {},
   "source": [
    "Now we just need to tell `solve_ivp` that it should use the function we just wrote as one of the events it watches out for. To do that, we pass an extra keyword argument `events` and set its value equal to a Python `list` containing the *name* of our event function. As a concrete example, let's use `solve_ivp` to evaluate $a(t)$ for the expansion phase **only** by passing `[zero_gradient_event]` as the value of the `events` keyword argument."
   ]
  },
  {
   "cell_type": "code",
   "execution_count": 33,
   "id": "b0ef0600-a11d-48a2-adf9-d7d52c12342a",
   "metadata": {},
   "outputs": [
    {
     "name": "stdout",
     "output_type": "stream",
     "text": [
      "  message: A termination event occurred.\n",
      "  success: True\n",
      "   status: 1\n",
      "        t: [ 0.000e+00  9.535e-10 ...  5.465e+01  5.465e+01]\n",
      "        y: [[ 1.000e-06  1.842e-06 ...  1.100e+01  1.100e+01]]\n",
      "      sol: <scipy.integrate._ivp.common.OdeSolution object at 0x7feea1fca320>\n",
      " t_events: [array([ 5.465e+01])]\n",
      " y_events: [array([[ 1.100e+01]])]\n",
      "     nfev: 686\n",
      "     njev: 0\n",
      "      nlu: 0\n"
     ]
    },
    {
     "name": "stderr",
     "output_type": "stream",
     "text": [
      "/tmp/ipykernel_37/1723151701.py:5: RuntimeWarning: invalid value encountered in sqrt\n",
      "  da_dt = np.sqrt((omega_m_0/a) - (omega_m_0-1))\n"
     ]
    }
   ],
   "source": [
    "# Run `solve_ivp` for the expansion phase adding the `events` keyword argument \n",
    "expand_result = spint.solve_ivp(\n",
    "     # The name of the function that computes da/dt\n",
    "    compute_da_dt_expand, \n",
    "    # The range of t values to estimate a for \n",
    "    # (use the highest value from our analytic solution as the end point).\n",
    "    [t_0, t_vals_big_crunch[-1]], \n",
    "    # The initial value for the scale factor\n",
    "    # (must be passed as a list within square brackets, even though there's only one value)\n",
    "    [a_0], \n",
    "    # The parameters we want to pass to our function \n",
    "    # (must be passed as a list within square brackets, even though there's only one value)\n",
    "    args=[omega_m_0],\n",
    "    # Setting dense_output=True lets us interpolate our solution when plotting.\n",
    "    dense_output=True,\n",
    "    # Set the events keyword argument equal to a `list` containing the name of \n",
    "    # our event function `zero_gradient_event`.\n",
    "    events=[zero_gradient_event]\n",
    ")\n",
    "# Print the result\n",
    "print(expand_result)"
   ]
  },
  {
   "cell_type": "markdown",
   "id": "9843b647-d978-4d11-a72d-964e391dd779",
   "metadata": {},
   "source": [
    "There are two differences between this new result and the one that `solve_ivp` returned before:\n",
    "1. The `message` now reads `'A termination event occurred.'`. In the earlier result it read `'The solver successfully reached the end of the integration interval.'`. Seeing this new message tells us that our event function did indeed return zero at some point while `solve_ivp` was running and terminated `solve_ivp`'s execution _before_ it reached the end of the interval we specified (`t_vals_big_crunch[-1]`).\n",
    "2. The largest value in the `t` array is smaller than before. In fact it is approximately the value of $t_{\\mathrm{peak}}$ because `solve_ivp` terminated its execution when it reached $a_{\\mathrm{peak}}$ and $da/dt$ became zero.\n",
    "3. The `t_events` and `y_events` properties now contain numerical values. Previously they were just empty arrays. The numerical values correspond to the computed values of $t_{\\mathrm{peak}}$ (for `t_events`) and $a_{\\mathrm{peak}}$ (for `y_events`).\n",
    "\n",
    "We can use the value stored in `y_events` as an initial value for `solve_ivp` to evaluate $a(t)$ for the collapse phase of our model universe's history. The `y_events` property of our result is a 2D _array_ containing a single scalar so we'll use the `squeeze` function from `numpy` again to compress the superfluous dimensions. We also need to remember that we have to subtract a small number from the value of $a$ for which $da/dt$ actually equals zero. The code to compute our initial value for the collapse phase solution looks like:"
   ]
  },
  {
   "cell_type": "code",
   "execution_count": 34,
   "id": "dbdcc49a-b7ac-4f27-9c8b-f137ca41c37c",
   "metadata": {},
   "outputs": [],
   "source": [
    "collapse_init_a = np.squeeze(expand_result.y_events)-1e-6"
   ]
  },
  {
   "cell_type": "markdown",
   "id": "3ebadbcf-5033-45f3-9ae9-3eb1ddff11d8",
   "metadata": {},
   "source": [
    "We can use the value stored in `t_events` as a lower bound for the time interval we ask `solve_ivp` to evaluate $a(t)$ for during the collapse phase of our model universe's history. For the upper bound we'll use the maximum time value we obtained from the analytic solution (`t_vals_big_crunch[-1]`)."
   ]
  },
  {
   "cell_type": "code",
   "execution_count": 35,
   "id": "c8066b14-5015-438a-92fc-07c3ceab8f6d",
   "metadata": {},
   "outputs": [],
   "source": [
    "collapse_time_interval = [np.squeeze(expand_result.t_events), t_vals_big_crunch[-1]]"
   ]
  },
  {
   "cell_type": "markdown",
   "id": "666ab0f6-a1a4-424e-b24b-1db7d9108a2b",
   "metadata": {},
   "source": [
    "Now we're ready to call `solve_ivp` one more time and compute our solution to equation (16) for the collapse phase."
   ]
  },
  {
   "cell_type": "code",
   "execution_count": 36,
   "id": "cf68371a-7b5e-4944-9a34-4f8f1bc8f659",
   "metadata": {},
   "outputs": [
    {
     "name": "stdout",
     "output_type": "stream",
     "text": [
      "  message: The solver successfully reached the end of the integration interval.\n",
      "  success: True\n",
      "   status: 0\n",
      "        t: [ 5.465e+01  5.562e+01  6.303e+01  7.980e+01  1.009e+02\n",
      "             1.050e+02  1.076e+02  1.087e+02  1.093e+02]\n",
      "        y: [[ 1.100e+01  1.100e+01  1.084e+01  9.503e+00  5.036e+00\n",
      "              3.358e+00  1.939e+00  1.011e+00  2.877e-01]]\n",
      "      sol: <scipy.integrate._ivp.common.OdeSolution object at 0x7feea1f4ef80>\n",
      " t_events: None\n",
      " y_events: None\n",
      "     nfev: 74\n",
      "     njev: 0\n",
      "      nlu: 0\n"
     ]
    }
   ],
   "source": [
    "collapse_result = spint.solve_ivp(\n",
    "     # The name of the function that computes da/dt during the collapse phase.\n",
    "    compute_da_dt_collapse, \n",
    "    # The range of t values to estimate a for \n",
    "    # (use the highest value from our analytic solution as the end point).\n",
    "    collapse_time_interval, \n",
    "    # The initial value for the scale factor\n",
    "    # (must be passed as a list within square brackets, even though there's only one value)\n",
    "    [collapse_init_a], \n",
    "    # The parameters we want to pass to our function \n",
    "    # (must be passed as a list within square brackets, even though there's only one value)\n",
    "    args=[omega_m_0],\n",
    "    # Setting dense_output=True lets us interpolate our solution when plotting.\n",
    "    dense_output=True,\n",
    "    # We don't need to listen for any events this time.\n",
    ")\n",
    "# Print the result to mske sure that solve_ivp ran successfully. \n",
    "print(collapse_result)"
   ]
  },
  {
   "cell_type": "markdown",
   "id": "9ab5395a-e0f3-4c7f-a708-5719508b9e1b",
   "metadata": {},
   "source": [
    "The `message` tells us that `'The solver successfully reached the end of the integration interval.'`, so let's try plotting our results. We'll plot separate curves for our numerical results in the expanding and collapsing phases and a single curve to show the analytic solution for comparison. Most of the code in the next cell will be very familiar by now. The only new techinque to notice is that we will use the `t_max` property of the solution objects to define arrays of time values to plot our solutions for. In fact, the solution objects have `t_max` **and** `t_min` properties that hold the maximum and minimum values of $t$ for which the solution they represent is valid."
   ]
  },
  {
   "cell_type": "code",
   "execution_count": 37,
   "id": "0c2d5bdf-20e6-48be-bbcc-c884662d74d0",
   "metadata": {},
   "outputs": [
    {
     "data": {
      "text/plain": [
       "<matplotlib.legend.Legend at 0x7fef46995420>"
      ]
     },
     "execution_count": 37,
     "metadata": {},
     "output_type": "execute_result"
    },
    {
     "data": {
      "image/png": "[encoded data removed]",
      "text/plain": [
       "<Figure size 500x500 with 1 Axes>"
      ]
     },
     "metadata": {},
     "output_type": "display_data"
    }
   ],
   "source": [
    "# Extract the solution objects for the expansion and contraction phases\n",
    "# from the corresponding results of running `solve_ivp`.\n",
    "expand_solution = expand_result.sol\n",
    "collapse_solution = collapse_result.sol\n",
    "\n",
    "# Define arrays of time values at which to plot values of a(t)\n",
    "# during the expansion and collapse phases\n",
    "t_vals_big_crunch_expand = np.linspace(0, expand_solution.t_max, 50)\n",
    "t_vals_big_crunch_collapse = np.linspace(expand_solution.t_max, collapse_solution.t_max, 50)\n",
    "\n",
    "# Set up some axes to plot our results into\n",
    "fig = plt.figure(figsize=(5,5))\n",
    "ax = fig.add_subplot(1,1,1)\n",
    "\n",
    "# Plot the solution for the expansion phase using a thick line\n",
    "# Assign it the label \"Numerical expansion\"\n",
    "ax.plot(t_vals_big_crunch_expand, \n",
    "        np.squeeze(expand_solution(t_vals_big_crunch_expand)), \n",
    "        lw=3, \n",
    "        label=\"Numerical expansion\")\n",
    "\n",
    "# Plot the solution for the collapse phase using a thick line\n",
    "# Assign it the label \"Numerical collapse\"\n",
    "ax.plot(t_vals_big_crunch_collapse, \n",
    "        np.squeeze(collapse_solution(t_vals_big_crunch_collapse)), \n",
    "        lw=3, \n",
    "        label=\"Numerical collapse\")\n",
    "\n",
    "# Plot the analystic solution using a dashed black line for comparison\n",
    "# Assign it the label \"Analytic\"\n",
    "ax.plot(t_vals_big_crunch, \n",
    "        a_vals_big_crunch, \n",
    "        ls=\"--\", # dashed line\n",
    "        label=\"Analytic\", \n",
    "        c=\"k\" # black line\n",
    "       )\n",
    "\n",
    "# Set the labels for the x and y scales to appropriate values\n",
    "# and make the text large so we can read it easily.\n",
    "ax.set_xlabel(\"$H_{0}t$\", fontsize=\"xx-large\")\n",
    "ax.set_ylabel(\"$a$\", fontsize=\"xx-large\")\n",
    "\n",
    "# Add a legend to distinguish the three curves.\n",
    "ax.legend()"
   ]
  },
  {
   "cell_type": "markdown",
   "id": "fcdae4a3-d5b7-4314-82b5-ff1c32fb8cb1",
   "metadata": {},
   "source": [
    "Great! We see that the values we compute using `solve_ivp` exactly match those we computed analytically in Part 2.1. "
   ]
  },
  {
   "cell_type": "markdown",
   "id": "44c6c652-c901-41ab-af5f-f1b7edea50e4",
   "metadata": {},
   "source": [
    "#### Exercise 6\n",
    "For the next exercise in this activity, you will use the techniques that you have learned to predict $a(t)$ for a arbitrarily curved universes containing arbitrary densities of matter, radiation and cosmological constant. In other words you will be computing and plotting numerical solutions for the full Friedmann equation, given by equation (14).\n",
    "\n",
    "In the real Universe, the present density parameter for radiation $\\Omega_{\\mathrm{r},0}\\approx5\\times10^{-5}\\ll1$. You may assume that $\\Omega_{\\mathrm{r},0}$ has this value the rest of this excercise."
   ]
  },
  {
   "cell_type": "code",
   "execution_count": 38,
   "id": "77db86ba-d6b8-46db-8bbc-0a1aaedbd6f6",
   "metadata": {},
   "outputs": [],
   "source": [
    "# Assume a value for the current radiation density parameter\n",
    "omega_r_0 = 5e-5"
   ]
  },
  {
   "cell_type": "markdown",
   "id": "13c398e3-f219-4871-9272-d4b30245868f",
   "metadata": {},
   "source": [
    "##### Exercise 6.1\n",
    "Start by writing a two functions that compute $\\mathrm{d}a/\\mathrm{d}t$ (in multiples of $H_{0}$) for universes that is described by equation (14) and can be used by `solve_ivp` to evaluate $a(t)$ given initial conditions and values for $\\Omega_{\\mathrm{m},0}$, $\\Omega_{\\mathrm{r},0}$ and $\\Omega_{\\Lambda,0}$. Write the first function to model a universe that is expanding and the second function to model a universe that is contracting. To you having to scroll back and forth, we've repeated equation (14) below.\n",
    "\\begin{equation}\n",
    "    \\frac{\\mathrm{d}a}{\\mathrm{d}t} = H_{0}\\sqrt{\\frac{\\Omega_{\\mathrm{m},0}}{a} + \\frac{\\Omega_{\\mathrm{r},0}}{a^{2}} + a^{2}\\Omega_{\\Lambda,0} - (\\Omega_{0}-1)}\\qquad(14\\,\\mathrm{repeated})\n",
    "\\end{equation}"
   ]
  },
  {
   "cell_type": "markdown",
   "id": "740b0975-1b00-4b60-83c9-9511ae2a24fe",
   "metadata": {},
   "source": [
    "We have provided a model solution for this exercise in a separate _Solutions_ notebook. Try to write your own solution before looking at the answer though!"
   ]
  },
  {
   "cell_type": "code",
   "execution_count": 39,
   "id": "84678957-3fbe-421a-bfae-d1d99185458c",
   "metadata": {},
   "outputs": [],
   "source": [
    "# The first two arguments must be t and a - we add three parameters corresponding to the three density parameters\n",
    "def compute_da_dt_general_expand(t, a, omega_m_0, omega_r_0, omega_l_0):\n",
    "    a_scalar = np.squeeze(a)\n",
    "    # We compute Omega_0 as the sum of the three separate density parameters\n",
    "    omega_0 = omega_m_0 + omega_r_0 + omega_l_0\n",
    "    # We can now compute the derivative by evaluating equation (14)\n",
    "    da_dt = np.sqrt(omega_m_0/a_scalar + omega_r_0/(a_scalar**2) + omega_l_0*a_scalar**2 - (omega_0 - 1))\n",
    "    return da_dt\n",
    "\n",
    "# We follow the same process to get a function for collapse \n",
    "def compute_da_dt_general_collapse(t, a, omega_m_0, omega_r_0, omega_l_0):\n",
    "    da_dt = compute_da_dt_general_expand(t, a, omega_m_0, omega_r_0, omega_l_0)\n",
    "    # Note that as it is a collapse, we need to multiply by -1 when returning the function\n",
    "    return -da_dt"
   ]
  },
  {
   "cell_type": "markdown",
   "id": "913598fe-5665-4e7d-ac7d-4f19a3899624",
   "metadata": {},
   "source": [
    "##### Exercise 6.2\n",
    "Choose some **positive** values for $\\Omega_{\\mathrm{m},0}$ and $\\Omega_{\\Lambda,0}$ that will produce a big crunch universe. Once you have chosen these values, use `solve_ivp` to compute $a(t)$ for the expanding and collapsing phases of your model universe's history and plot the resulting curves of $a$ versus $t$. \n",
    "\n",
    "[_Hint_: To find some appropriate values for the density parameters you could look at Figure 4.3 in Chapter 4 of the _Cosmology and the distant Universe_ textbook.] \n",
    "\n",
    "We have provided a model solution for this exercise in a separate _Solutions_ notebook. Try to write your own solution before looking at the answer though!"
   ]
  },
  {
   "cell_type": "code",
   "execution_count": 40,
   "id": "3e6b13cb-0de3-4190-ac3c-ad90ae6c87df",
   "metadata": {},
   "outputs": [
    {
     "name": "stdout",
     "output_type": "stream",
     "text": [
      "  message: A termination event occurred.\n",
      "  success: True\n",
      "   status: 1\n",
      "        t: [ 0.000e+00  1.374e-10 ...  1.841e+00  1.841e+00]\n",
      "        y: [[ 1.000e-06  1.737e-06 ...  1.555e+00  1.555e+00]]\n",
      "      sol: <scipy.integrate._ivp.common.OdeSolution object at 0x7fef4a54b910>\n",
      " t_events: [array([ 1.841e+00])]\n",
      " y_events: [array([[ 1.555e+00]])]\n",
      "     nfev: 662\n",
      "     njev: 0\n",
      "      nlu: 0\n",
      "  message: A termination event occurred.\n",
      "  success: True\n",
      "   status: 1\n",
      "        t: [ 1.841e+00  2.081e+00 ...  3.702e+00  3.702e+00]\n",
      "        y: [[ 1.555e+00  1.542e+00 ...  2.170e-06 -5.413e-13]]\n",
      "      sol: <scipy.integrate._ivp.common.OdeSolution object at 0x7feea202f490>\n",
      " t_events: [array([ 3.702e+00])]\n",
      " y_events: [array([[-5.413e-13]])]\n",
      "     nfev: 386\n",
      "     njev: 0\n",
      "      nlu: 0\n"
     ]
    },
    {
     "name": "stderr",
     "output_type": "stream",
     "text": [
      "/tmp/ipykernel_37/706245512.py:7: RuntimeWarning: invalid value encountered in sqrt\n",
      "  da_dt = np.sqrt(omega_m_0/a_scalar + omega_r_0/(a_scalar**2) + omega_l_0*a_scalar**2 - (omega_0 - 1))\n"
     ]
    },
    {
     "data": {
      "text/plain": [
       "<matplotlib.legend.Legend at 0x7feea1e9c400>"
      ]
     },
     "execution_count": 40,
     "metadata": {},
     "output_type": "execute_result"
    },
    {
     "data": {
      "image/png": "[encoded data removed]",
      "text/plain": [
       "<Figure size 500x500 with 1 Axes>"
      ]
     },
     "metadata": {},
     "output_type": "display_data"
    }
   ],
   "source": [
    "# We are asked to identify two positive values of density parameters corresponding to a big crunch\n",
    "# Fig 4.3 in textbook suggests:\n",
    "omega_m_0_big_crunch = 3.0\n",
    "omega_l_0_big_crunch = 0.05\n",
    "\n",
    "# Start at t=0\n",
    "t_0_expand = 0\n",
    "# Pick a random t_max\n",
    "t_max_expand = 20\n",
    "# Pick a small initial value for a\n",
    "a_0_expand = 1e-6\n",
    "\n",
    "compute_da_dt_general_expand.terminal = True\n",
    "\n",
    "# Call `solve_ivp` to evaluate a(t) for the expansion phase.\n",
    "expand_result_general_big_crunch = spint.solve_ivp(\n",
    "    compute_da_dt_general_expand, \n",
    "    [t_0_expand, t_max_expand], \n",
    "    [a_0_expand], \n",
    "    # The parameters we want to pass to our function\n",
    "    args=[omega_m_0_big_crunch, omega_r_0, omega_l_0_big_crunch],\n",
    "    # We can now interpolate our solution when plotting.\n",
    "    dense_output=True,\n",
    "    events=[compute_da_dt_general_expand]\n",
    ")\n",
    "print(expand_result_general_big_crunch)\n",
    "\n",
    "# Now we can pick some initial values for the collapse phase\n",
    "# As an initial time value we can use the peak time\n",
    "t_0_collapse = np.squeeze(expand_result_general_big_crunch.t_events)\n",
    "# We know collapse should take the same amount of time as the expansion\n",
    "# We want to define an event to precisely capture the time when the big crunch happens\n",
    "t_max_collapse = t_0_collapse*2 + 1\n",
    "a_0_collapse = np.squeeze(expand_result_general_big_crunch.y_events)-1e-6\n",
    "\n",
    "# We now define an event for which big crunch happens - when a=0\n",
    "def big_crunch_event(t, a, omega_m_0, omega_r_0, omega_l_0):\n",
    "    return np.squeeze(a)\n",
    "\n",
    "# Set our big crunch event to terminate execution of `solve_ivp` as soon as a=0.\n",
    "big_crunch_event.terminal = True\n",
    "\n",
    "# Call `solve_ivp` to evaluate a(t) for the collapse phase.\n",
    "collapse_result_general_big_crunch = spint.solve_ivp(\n",
    "    compute_da_dt_general_collapse,\n",
    "    [t_0_collapse, t_max_collapse], \n",
    "    [a_0_collapse], \n",
    "    args=[omega_m_0_big_crunch, omega_r_0, omega_l_0_big_crunch],\n",
    "    dense_output=True,\n",
    "    events=[big_crunch_event]\n",
    ")\n",
    "print(collapse_result_general_big_crunch)\n",
    "\n",
    "t_big_crunch = np.squeeze(collapse_result_general_big_crunch.t_events)\n",
    "\n",
    "# We now construct arrays of time values at which to evaluate a(t) for the expansion and collapse\n",
    "t_vals_gbc_expand = np.linspace(t_0_expand, t_0_collapse, 50)\n",
    "t_vals_gbc_collapse = np.linspace(t_0_collapse, t_big_crunch, 50)\n",
    "\n",
    "# We also get the solution objects for the expansion and collapse\n",
    "expand_gbc_solution = expand_result_general_big_crunch.sol\n",
    "\n",
    "collapse_gbc_solution = collapse_result_general_big_crunch.sol\n",
    "\n",
    "# Set up axes\n",
    "fig = plt.figure(figsize=(5,5))\n",
    "ax = fig.add_subplot(1,1,1)\n",
    "\n",
    "# Plot the solution for the expansion phase - assign labels\n",
    "ax.plot(t_vals_gbc_expand, \n",
    "        np.squeeze(expand_gbc_solution(t_vals_gbc_expand)), \n",
    "        lw=3, \n",
    "        label=\"Numerical expansion\")\n",
    "\n",
    "# Plot the solution for the collapse phase - assign labels\n",
    "ax.plot(t_vals_gbc_collapse, \n",
    "        np.squeeze(collapse_gbc_solution(t_vals_gbc_collapse)), \n",
    "        lw=3, \n",
    "        label=\"Numerical collapse\")\n",
    "\n",
    "# Set the labels for the x and y scales \n",
    "ax.set_xlabel(\"$H_{0}t$\", fontsize=\"xx-large\")\n",
    "ax.set_ylabel(\"$a$\", fontsize=\"xx-large\")\n",
    "\n",
    "# Add a legend to distinguish the two curves.\n",
    "ax.legend(loc=\"lower center\")"
   ]
  },
  {
   "cell_type": "markdown",
   "id": "40dc26e1-7aab-4283-aeea-372d52ef442d",
   "metadata": {},
   "source": [
    "This looks a lot like the we plotted in the intridcution to this part of the acttivity. However, if you look closely, you will see that this universe reaches a much smaller maximum scale factor and takes a much smaller number of Hubble times to recollapse."
   ]
  },
  {
   "cell_type": "markdown",
   "id": "a4f3d121-ddfd-4286-b66b-41d7a7df1df1",
   "metadata": {},
   "source": [
    "##### Exercise 6.3\n",
    "Now choose values for $\\Omega_{\\mathrm{m},0}$ and $\\Omega_{\\Lambda,0}$ that will produce a \"Loitering Universe\" solution in which $da/dt$ is very close to 0 (but still nonzero) for a long period of time. Once you have chosen these values, use `solve_ivp` to compute $a(t)$ for your model universe and plot the resulting curve of $a$ versus $t$. \n",
    "\n",
    "[_Hint:_ It may help to use a logarithmic $a$ axis to highlight the time interval when the universe is loitering and fine tune your integration range so that the loitering phase is visible using linear axes.]\n",
    "\n",
    "We have provided a model solution for this exercise in a separate _Solutions_ notebook. Try to write your own solution before looking at the answer though!"
   ]
  },
  {
   "cell_type": "code",
   "execution_count": 45,
   "id": "9432d79a-8195-45c2-baac-262547580912",
   "metadata": {},
   "outputs": [
    {
     "name": "stdout",
     "output_type": "stream",
     "text": [
      "  message: The solver successfully reached the end of the integration interval.\n",
      "  success: True\n",
      "   status: 0\n",
      "        t: [ 0.000e+00  1.407e-10 ...  4.574e+00  5.000e+00]\n",
      "        y: [[ 1.000e-06  1.732e-06 ...  1.278e+00  2.170e+00]]\n",
      "      sol: <scipy.integrate._ivp.common.OdeSolution object at 0x7feea1dc3310>\n",
      " t_events: None\n",
      " y_events: None\n",
      "     nfev: 194\n",
      "     njev: 0\n",
      "      nlu: 0\n"
     ]
    },
    {
     "data": {
      "text/plain": [
       "<matplotlib.legend.Legend at 0x7feea1853730>"
      ]
     },
     "execution_count": 45,
     "metadata": {},
     "output_type": "execute_result"
    },
    {
     "data": {
      "image/png": "[encoded data removed]",
      "text/plain": [
       "<Figure size 500x500 with 1 Axes>"
      ]
     },
     "metadata": {},
     "output_type": "display_data"
    }
   ],
   "source": [
    "# We are able to use the same formula from ex6.1 to compute da/dt\n",
    "\n",
    "# We are asked to identify two positive values of the density parameters corresponding to a loitering Universe. \n",
    "# Fig 4.3 in the textbook suggests two possible values are\n",
    "omega_m_0_loiter = 0.5\n",
    "omega_l_0_loiter = 2.0\n",
    "\n",
    "# Pick some initial values\n",
    "# Start at t=0\n",
    "t_0_loiter = 0\n",
    "# We don't know the maximum time - pick a high number\n",
    "t_max_loiter = 5\n",
    "# Pick small initial value for a\n",
    "a_0_loiter = 1e-6\n",
    "\n",
    "\n",
    "# Call `solve_ivp` to evaluate a(t) for the expansion phase.\n",
    "result_general_loitering = spint.solve_ivp(\n",
    "    compute_da_dt_general_expand, \n",
    "    [t_0_loiter, t_max_loiter], \n",
    "    # The initial value for the scale factor\n",
    "    [a_0_loiter], \n",
    "    args=[omega_m_0_loiter, omega_r_0, omega_l_0_loiter],\n",
    "    dense_output=True,\n",
    ")\n",
    "print(result_general_loitering)\n",
    "\n",
    "# We now construct arrays of time values at which to evaluate a(t) for the loitering solution\n",
    "t_vals_loiter = np.linspace(t_0_loiter, t_max_loiter, 50)\n",
    "\n",
    "# Get the solution object for the loitering solution.\n",
    "loiter_solution = result_general_loitering.sol\n",
    "\n",
    "# Set up some axes to plot our results into\n",
    "fig = plt.figure(figsize=(5,5))\n",
    "ax = fig.add_subplot(1,1,1)\n",
    "\n",
    "# Plot the solution for the loitering universe - assign labels\n",
    "ax.plot(t_vals_loiter, \n",
    "        np.squeeze(loiter_solution(t_vals_loiter)), \n",
    "        lw=3, \n",
    "        label=\"Numerical loitering universe\")\n",
    "\n",
    "# Set the labels for the x and y scales \n",
    "ax.set_xlabel(\"$H_{0}t$\", fontsize=\"xx-large\")\n",
    "ax.set_ylabel(\"$a$\", fontsize=\"xx-large\")\n",
    "\n",
    "# Use a logarithmic scale to show phase more clearly\n",
    "#ax.set_yscale(\"log\")\n",
    "#ax.set_xscale(\"log\")\n",
    "\n",
    "# Add a legend to label the curve.\n",
    "ax.legend(loc=\"lower center\")"
   ]
  },
  {
   "cell_type": "markdown",
   "id": "23a475a9-c792-4993-a78a-e40247032046",
   "metadata": {},
   "source": [
    "### Part 2.3 - \"Big Bounce\" universes and solving the Acceleration Equation\n",
    "In this final part, you will produce a plot of $a(t)$ for a \"Big Bounce\" Universe that is initially _contracting_ with $\\mathrm{d}a/\\mathrm{d}t<0$ from an initial scale factor $a\\gg0$.\n",
    "\n",
    "To make this plot you will need to solve the **acceleration equation** for a universe that contains matter, radiation and a cosmological constant. The acceleration equation can be expressed in terms of the present day density parameters as:\n",
    "\\begin{equation}\n",
    "\\frac{\\mathrm{d}^{2}a}{\\mathrm{d}t^{2}} = -\\frac{H_{0}^{2}a}{2}\\left[\\frac{\\Omega_{\\mathrm{m},0}}{a^{3}} + \\frac{2\\Omega_{\\mathrm{r},0}}{a^{4}} - 2\\Omega_{\\Lambda,0}\\right]\\qquad(16)\n",
    "\\end{equation}\n",
    "Unlike equation (14), equation (16) is a **second order** differential equation. In this part, you will learn how to use `solve_ivp` to solve second order differential equations which will ultimately allow you to compute a numerical solution for $a(t)$. \n",
    "\n",
    "The `solve_ivp` function is not designed specifically to solve second order differential equations. In fact it *only* solves first order ordinary differential equations directly. However, we can use the fact that it can process **vector-valued** variables and functions to circumvent this limitation. \n",
    "\n",
    "To see how to do this, let's look at an example - a simple harmonic oscillator. You may remember that the time-dependent displacement $x(t)$ of a simple harmonic oscillator from its mean position is described by a second order differential equation of the form:\n",
    "\\begin{equation}\n",
    "\\frac{\\mathrm{d}^{2}x}{\\mathrm{d}t^{2}} = -\\frac{k}{m}x\\qquad(17)\n",
    "\\end{equation}\n",
    "This equation has a well known analytic solution $x=\\sin\\left(\\sqrt{\\frac{k}{m}}t\\right)$ that we can check the result we obtain using `solve_ivp`. The trick is to realise that equation (17) can be rewritten as two **coupled _first order_** differential equations. If we define the velocity:\n",
    "\\begin{equation}\n",
    "\\mathrm{d}x/\\mathrm{d}t = u\\qquad(18)\n",
    "\\end{equation}\n",
    "then we can write:\n",
    "\\begin{equation}\n",
    "\\frac{\\mathrm{d}^{2}x}{\\mathrm{d}t^{2}} = \\frac{\\mathrm{d}u}{\\mathrm{d}t} = -\\frac{k}{m}x\\qquad(19)\n",
    "\\end{equation}\n",
    "We now have two first order differential equations that we *can* solve using `solve_ivp`. The important thing to recognise is that the the two equations depend on each other so we must use `solve_ivp` to solve them both simultaneously. How can we achieve that?\n",
    "\n",
    "In previous examples, we defined a function to compute $\\mathrm{d}a/\\mathrm{d}t$ that expected to receive a scalar-valued input $a$ at each time step. However, we also saw that `solve_ivp` is designed to process vector-valued variables as well. We can use this functionality to solve equation (17). We write a function that we can pass to `solve_ivp` that accepts a list of two values, representing the current values of $x$ and $u$. The function should then use equations (18) and (19) to compute the time derivatives of $x$ and $u$ and return those derivatives as a list. It is important the order of the derivatives in the list matches the order of the original variables in the input list. Let's see what that function looks like:"
   ]
  },
  {
   "cell_type": "code",
   "execution_count": 46,
   "id": "5607ebb6-bf24-4ddc-95c5-19ec0f5c96ef",
   "metadata": {},
   "outputs": [],
   "source": [
    "# A function that simultaneously solves equations (18) and (19)\n",
    "# The function arguments follow the familar requirements of `solve_ivp`:\n",
    "# 1) The first argument represents the independent variable (time in this case)\n",
    "# 2) The second argument represents the dependent variables as a list of values.\n",
    "# In this case we expect the list to contain two values, corresponding to the\n",
    "# displacement, x and the velocity u.\n",
    "# 3) All other arguments represent the parameters needed to compute the derivatives\n",
    "# of x and u. In this case there are two parameters, `k` and `m`.\n",
    "def simple_harmonic_oscillator(t, x_and_u, k, m):\n",
    "    # The first step is to unpack x and u from the list (`x_and_u`)\n",
    "    # that was passed in.\n",
    "    \n",
    "    # The first element of `x_and_u` corresponds to the value of x\n",
    "    x = x_and_u[0]\n",
    "    # The second element of `x_and_u` corresponds to the value of u\n",
    "    # Note that because u = dx/dt, we don't need to explicitly \n",
    "    # compute dx/dt in this function, we can just return the value \n",
    "    # of u that was passed in.\n",
    "    u = x_and_u[1] \n",
    "    # Compute du/dt using equation (19). Note that\n",
    "    # du/dt depends on the value of x that was passed\n",
    "    # to the function.\n",
    "    du_dt = -(k/m)*x\n",
    "    # Return the time derivatives of the inputs \n",
    "    # (in the same order as the original values \n",
    "    # were passed to this function)\n",
    "    return u, du_dt"
   ]
  },
  {
   "cell_type": "markdown",
   "id": "1d4773a2-8974-4ba2-8f9a-fd69e25b6665",
   "metadata": {},
   "source": [
    "Now that we have defined a function that we can use to solve our coupled differential equations, we need to specify some initial values for $x$ and $u$ and values for the parameters, $k$ and $m$. Since this is just an example we'll pick some arbitrary test values."
   ]
  },
  {
   "cell_type": "code",
   "execution_count": 47,
   "id": "0f5353a9-995c-48f6-b52d-bb7f908c761b",
   "metadata": {},
   "outputs": [],
   "source": [
    "x_init = 1\n",
    "u_init = 0\n",
    "k=2\n",
    "m=0.5"
   ]
  },
  {
   "cell_type": "markdown",
   "id": "d9701cc8-1a9f-43ed-93c4-f86b15d68427",
   "metadata": {},
   "source": [
    "Now we're ready to call `solve_ivp`. Calling the function looks almost the same as every other time we've done so until now. The only difference is that we'll be passing a list of two elements as our initial values instead of a list with just one element. It is important that the order of the initial values matches the order that we expect the values to be passed to the function that calculates our derivatives (`simple_harmonic_oscillator` in this example). We'll set the time range for our solution to be between 0 and 5."
   ]
  },
  {
   "cell_type": "code",
   "execution_count": 48,
   "id": "1d969bbd-96ed-4371-af54-0fb24f99e77c",
   "metadata": {},
   "outputs": [
    {
     "name": "stdout",
     "output_type": "stream",
     "text": [
      "  message: The solver successfully reached the end of the integration interval.\n",
      "  success: True\n",
      "   status: 0\n",
      "        t: [ 0.000e+00  2.498e-04 ...  4.598e+00  5.000e+00]\n",
      "        y: [[ 1.000e+00  1.000e+00 ... -9.746e-01 -8.375e-01]\n",
      "            [ 0.000e+00 -9.990e-04 ... -4.472e-01  1.092e+00]]\n",
      "      sol: <scipy.integrate._ivp.common.OdeSolution object at 0x7feea1aa2fe0>\n",
      " t_events: None\n",
      " y_events: None\n",
      "     nfev: 86\n",
      "     njev: 0\n",
      "      nlu: 0\n"
     ]
    }
   ],
   "source": [
    "# Call `solve_ivp` to evaluate x(t) for the simple harmonic oscillator.\n",
    "result_sho = spint.solve_ivp(\n",
    "    # The name of the function that computes dx/dt and du/dt\n",
    "    simple_harmonic_oscillator, \n",
    "    # The range of t values to estimate x and u\n",
    "    [0, 5], \n",
    "    # The initial values for the x and u\n",
    "    # (must be passed in the same order as we expect them in `simple_harmonic_oscillator`)\n",
    "    [x_init, u_init], \n",
    "    # The parameter we want to pass to our function, in the order that \n",
    "    # `simple_harmonic_oscillator` expects to receive them,\n",
    "    args=[k, m],\n",
    "    # Setting dense_output=True lets us interpolate our solution when plotting.\n",
    "    dense_output=True,\n",
    "    # We don't watch for any events\n",
    ")\n",
    "# Print the result\n",
    "print(result_sho)"
   ]
  },
  {
   "cell_type": "markdown",
   "id": "fa9589ee-51b2-4f63-9461-1bc412c805e6",
   "metadata": {},
   "source": [
    "We see the message `The solver successfully reached the end of the integration interval.'`, so let's plot the result and compare it with the analytic solution. One thing to note here is that `solve_ivp` has produced solutions for $x(t)$ **and** $u(t)$. When plotting, we'll need to extract only the $x(t)$ solution."
   ]
  },
  {
   "cell_type": "code",
   "execution_count": 49,
   "id": "8deae50d-28ad-4e00-9e8e-cb01b9004e31",
   "metadata": {},
   "outputs": [
    {
     "data": {
      "text/plain": [
       "<matplotlib.legend.Legend at 0x7feea1e58dc0>"
      ]
     },
     "execution_count": 49,
     "metadata": {},
     "output_type": "execute_result"
    },
    {
     "data": {
      "image/png": "[encoded data removed]",
      "text/plain": [
       "<Figure size 500x500 with 1 Axes>"
      ]
     },
     "metadata": {},
     "output_type": "display_data"
    }
   ],
   "source": [
    "# Extract the solution object from the result\n",
    "sho_solution = result_sho.sol\n",
    "\n",
    "# Create an array of time values for which to plot our solution\n",
    "t_vals_sho = np.linspace(sho_solution.t_min, sho_solution.t_max, 100)\n",
    "\n",
    "# Set up some axes to plot our results into\n",
    "fig = plt.figure(figsize=(5,5))\n",
    "ax = fig.add_subplot(1,1,1)\n",
    "\n",
    "# Plot the solution for the simple harmonic oscillator\n",
    "# Assign it the label \"Simple Harmonic oscillator\"\n",
    "ax.plot(t_vals_sho, \n",
    "        # Note that `sho_solution` produces curves for x and u.\n",
    "        # Previously, there was only one curve and we had to \n",
    "        # use np.squeeze to remove the extra dimension.\n",
    "        # Now, the second dimension has two elements and we access \n",
    "        # the zeroth element, containing the solution for x by \n",
    "        # adding `[0]`. \n",
    "        sho_solution(t_vals_sho)[0], \n",
    "        lw=3, \n",
    "        label=\"Numeric solution\")\n",
    "\n",
    "# Now plot the analytic solution. You can verify yourself that this is just\n",
    "# x = sin(wt+pi/2), where w = sqrt(k/m)\n",
    "ax.plot(t_vals_sho, \n",
    "        np.sin(np.sqrt(k/m)*t_vals_sho + np.pi/2),\n",
    "        ls=\"--\",\n",
    "        c=\"k\",\n",
    "        label=\"Analytic Solution\")\n",
    "\n",
    "# Set the labels for the x and y scales to appropriate values\n",
    "# and make the text large so we can read it easily.\n",
    "ax.set_xlabel(\"$t$\", fontsize=\"xx-large\")\n",
    "ax.set_ylabel(\"$x$\", fontsize=\"xx-large\")\n",
    "\n",
    "# Add an overall title to the plot\n",
    "ax.set_title(\"Simple Harmonic Oscillator\")\n",
    "\n",
    "\n",
    "# Add a legend to distinguish the two curves.\n",
    "ax.legend(loc=\"upper right\")"
   ]
  },
  {
   "cell_type": "markdown",
   "id": "7e636f4a-72d2-4687-b1ee-1e7b33a93a23",
   "metadata": {},
   "source": [
    "The two curves match exactly! We have successfully used `solve_ivp` to solve a second order differential equation. Now let's move on and apply this to finding $a(t)$ for a \"Big Bounce\" universe."
   ]
  },
  {
   "cell_type": "markdown",
   "id": "522dacfb-af27-46bc-aafa-4621e791de1c",
   "metadata": {},
   "source": [
    "#### Exercise 7\n",
    "Use `solve_ivp` to solve the acceleration equation as expressed in equation (16) for a \"Big Bounce\" universe. Start your solution at $t=0$ with an initial expansion factor $a_{\\mathrm{init}}=10$ and an initial collapse rate $(da/dt)_{\\mathrm{init}} = -13H_{0}$. You may assume that $\\Omega_{\\mathrm{r},0} = 5.5\\times10^{-5}$, $\\Omega_{\\mathrm{m},0} = 0.55$, $\\Omega_{\\Lambda,0} = 2.1$ and $H_{0}=67.74\\,\\mathrm{km\\,s^{-1}\\,Mpc^{-1}}$. Once you have your solution, make a plot of $a(t)$ between $t=0$ and $t=2H_{0}^{-1}$. You may use units of $H_{0}t$ for your horizontal axis.\n",
    "\n",
    "We have provided a model solution for this exercise in a separate _Solutions_ notebook. Try to write your own solution before looking at the answer though!"
   ]
  },
  {
   "cell_type": "markdown",
   "id": "62a91de0-6b21-47e3-8e3b-54425290d646",
   "metadata": {},
   "source": [
    "We first re-write eq(16) as coupled first order differential equations, in the followinf way:\n",
    "\n",
    "\\begin{equation}\n",
    "\\frac{\\mathrm{d}a}{\\mathrm{d}t} = u\n",
    "\\end{equation}\n",
    "\n",
    "and\n",
    "\n",
    "\\begin{equation}\n",
    "\\frac{\\mathrm{d}^{2}a}{\\mathrm{d}t^{2}} = \\frac{\\mathrm{d}u}{\\mathrm{d}t} = -\\frac{H_{0}^{2}a}{2}\\left[\\frac{\\Omega_{\\mathrm{m},0}}{a^{3}} + \\frac{2\\Omega_{\\mathrm{r},0}}{a^{4}} - 2\\Omega_{\\Lambda,0}\\right]\n",
    "\\end{equation}\n",
    "\n",
    "Now we can define a function to simultaneously evaluate these derivatives given values of $a$ and $u=\\mathrm{d}a/\\mathrm{d}t$."
   ]
  },
  {
   "cell_type": "code",
   "execution_count": 50,
   "id": "7a6b9b95-1e1c-4d51-b7ba-76d0ca086755",
   "metadata": {},
   "outputs": [
    {
     "name": "stdout",
     "output_type": "stream",
     "text": [
      "  message: The solver successfully reached the end of the integration interval.\n",
      "  success: True\n",
      "   status: 0\n",
      "        t: [ 0.000e+00  8.838e-03  1.768e-02  2.622e-02  2.952e-02]\n",
      "        y: [[ 1.000e+01  5.210e+00  4.586e+00  7.456e+00  9.831e+00]\n",
      "            [-8.806e+02 -2.712e+02  1.210e+02  5.894e+02  8.619e+02]]\n",
      "      sol: <scipy.integrate._ivp.common.OdeSolution object at 0x7ff014193040>\n",
      " t_events: None\n",
      " y_events: None\n",
      "     nfev: 32\n",
      "     njev: 0\n",
      "      nlu: 0\n"
     ]
    },
    {
     "data": {
      "text/plain": [
       "<matplotlib.legend.Legend at 0x7feea1769420>"
      ]
     },
     "execution_count": 50,
     "metadata": {},
     "output_type": "execute_result"
    },
    {
     "data": {
      "image/png": "[encoded data removed]",
      "text/plain": [
       "<Figure size 500x500 with 1 Axes>"
      ]
     },
     "metadata": {},
     "output_type": "display_data"
    }
   ],
   "source": [
    "# We define a function that will simultaneously evaluate da/dt and du/dt\n",
    "def acceleration_equation(t, a_and_u, omega_m_0, omega_r_0, omega_l_0, h0):\n",
    "    a, u = a_and_u\n",
    "    # Compute du/dt \n",
    "    du_dt = -0.5 * a * h0**2 * ((2 * omega_r_0 / (a ** 4)) + (omega_m_0 / (a ** 3)) - (2 * omega_l_0))\n",
    "    return u, du_dt\n",
    "\n",
    "# Take the remaining density parameter values to produce a Big Bounce universe as well as the value of H0\n",
    "omega_m_0_bounce = 0.55\n",
    "omega_l_0_bounce = 2.1\n",
    "omega_r_0_bounce = 5.5e-5\n",
    "H0 = 67.74 \n",
    "\n",
    "# Set the initial values for our solution as instructed, starting at t=0\n",
    "t_0_bounce = 0\n",
    "t_max_bounce = 2/H0\n",
    "a_0_bounce = 10\n",
    "u_0_bounce = -13*H0\n",
    "\n",
    "\n",
    "# Call `solve_ivp` to evaluate a(t) (and u(t)) for the \"Big Bounce\" universe.\n",
    "result_bounce = spint.solve_ivp(\n",
    "    acceleration_equation, \n",
    "    [t_0_bounce, t_max_bounce], \n",
    "    [a_0_bounce, u_0_bounce], \n",
    "    args=[omega_m_0_bounce, omega_r_0, omega_l_0_bounce, H0],\n",
    "    dense_output=True,\n",
    ")\n",
    "print(result_bounce)\n",
    "\n",
    "# Extract the solution object from the result\n",
    "bounce_solution = result_bounce.sol\n",
    "\n",
    "# Create an array of time values for which to plot our solution\n",
    "t_vals_bounce = np.linspace(bounce_solution.t_min, bounce_solution.t_max, 100)\n",
    "\n",
    "# Set up some axes \n",
    "fig = plt.figure(figsize=(5,5))\n",
    "ax = fig.add_subplot(1,1,1)\n",
    "\n",
    "# Plot the solution for the big bounce universe - assign labels\n",
    "ax.plot(t_vals_bounce*H0, \n",
    "        bounce_solution(t_vals_bounce)[0], \n",
    "        lw=3, \n",
    "        label=\"Big Bounce\")\n",
    "\n",
    "# Set the labels for the x and y scales to appropriate values\n",
    "ax.set_xlabel(\"$H_{0}t$\", fontsize=\"xx-large\")\n",
    "ax.set_ylabel(\"$a$\", fontsize=\"xx-large\")\n",
    "\n",
    "# Add an overall title to the plot\n",
    "ax.set_title(\"Big Bounce Universe\")\n",
    "\n",
    "# Add a legend to distinguish the two curves.\n",
    "ax.legend(loc=\"lower left\")\n"
   ]
  },
  {
   "cell_type": "markdown",
   "id": "0c9e72a4-7a8e-4711-9892-0107d33eb55b",
   "metadata": {},
   "source": [
    "## Summary\n",
    "\n",
    "By working through this activity, you have use Python code to explore many of the concepts that you learned about in Chapter 4 of the _Cosmology and the Distant Universe_ textbook. In particular, you learned:\n",
    "1. How to design and write simple Python functions to evaluate physical equations.\n",
    "2. How to use simple functions to model the evolution of the Universe's different fluid constitients (in particular their densities) ast functions of scale factor ($a$) and time ($t$).\n",
    "3. How to plot the values the values those functions computed using `matplotlib`.\n",
    "4. How to use the `scipy` function `solve_ivp` to solve the _Friedmann_ and _acceleration_ equations for arbitrarily curved universes containing arbitrary combinations of matter, radiation and $\\Lambda$.\n",
    "5. How to model the evolution of \"big crunch\", \"big chill\", \"loitering\" and \"big bounce\" universes."
   ]
  },
  {
   "cell_type": "code",
   "execution_count": null,
   "id": "1ff84aa5-bb44-4f48-a787-aeeb11e3b7a4",
   "metadata": {},
   "outputs": [],
   "source": []
  }
 ],
 "metadata": {
  "kernelspec": {
   "display_name": "Python-3",
   "language": "python",
   "name": "python-3"
  },
  "language_info": {
   "codemirror_mode": {
    "name": "ipython",
    "version": 3
   },
   "file_extension": ".py",
   "mimetype": "text/x-python",
   "name": "python",
   "nbconvert_exporter": "python",
   "pygments_lexer": "ipython3",
   "version": "3.10.15"
  },
  "toc-showtags": false
 },
 "nbformat": 4,
 "nbformat_minor": 5
}
